{
 "cells": [
  {
   "cell_type": "markdown",
   "metadata": {},
   "source": [
    "# KARPHY'S CNN \n",
    "The notebook is used to experiment with video classification using karphy's CNN as discussed in https://static.googleusercontent.com/media/research.google.com/en//pubs/archive/42455.pdf"
   ]
  },
  {
   "cell_type": "code",
   "execution_count": 14,
   "metadata": {},
   "outputs": [],
   "source": [
    "import tensorflow as tf\n",
    "# import keras\n",
    "# tf.enable_eager_execution()\n",
    "tf.compat.v1.enable_eager_execution()\n",
    "import tensorflow_datasets as tfds\n",
    "import os\n",
    "import zipfile\n",
    "# from tensorflow.keras.utils.vis_utils import plot_model\n",
    "import matplotlib.pyplot as plt\n",
    "import matplotlib.image as mpimg\n",
    "import numpy as np\n",
    "import pydot\n"
   ]
  },
  {
   "cell_type": "markdown",
   "metadata": {},
   "source": [
    "## Reading in data\n",
    "The \"ucf101\" dataset from tensorflow will be used. More information on this dataset can be found here URL: https://www.crcv.ucf.edu/data/UCF101.php"
   ]
  },
  {
   "cell_type": "code",
   "execution_count": 15,
   "metadata": {},
   "outputs": [
    {
     "name": "stdout",
     "output_type": "stream",
     "text": [
      "<class 'tensorflow_datasets.core.dataset_info.DatasetInfo'>\n",
      "number of training examples: 9537\n",
      "number of test examples: 3783\n",
      "number of labels: 101\n"
     ]
    }
   ],
   "source": [
    "ucf101_dataset, ucf101_info = tfds.load(name=\"ucf101\", with_info=True)\n",
    "ucf101_train , ucf101_test = ucf101_dataset[\"train\"], ucf101_dataset[\"test\"]\n",
    "print(type(ucf101_info))\n",
    "assert isinstance(ucf101_train, tf.data.Dataset)\n",
    "assert isinstance(ucf101_test, tf.data.Dataset)\n",
    "\n",
    "print('number of training examples:', ucf101_info.splits[\"train\"].num_examples)\n",
    "print('number of test examples:', ucf101_info.splits[\"test\"].num_examples)\n",
    "print('number of labels:', ucf101_info.features[\"label\"].num_classes)"
   ]
  },
  {
   "cell_type": "markdown",
   "metadata": {},
   "source": [
    "### Looking into the dataset\n",
    "The dataset has a pixel size of 256 x 256 x 3 for each video. "
   ]
  },
  {
   "cell_type": "code",
   "execution_count": 16,
   "metadata": {},
   "outputs": [
    {
     "name": "stdout",
     "output_type": "stream",
     "text": [
      "<DatasetV1Adapter shapes: {video: (?, 256, 256, 3), label: ()}, types: {video: tf.uint8, label: tf.int64}>\n"
     ]
    }
   ],
   "source": [
    "print(ucf101_train.take(1))"
   ]
  },
  {
   "cell_type": "markdown",
   "metadata": {},
   "source": [
    "### Formating data\n",
    "* normalizing pixels? why again\n",
    "* The pixels are rescaled to a size of 170 x 170 x 3 as suggested by the paper \n",
    "* The models suggested in the paper can take one frame of 10 frames depending if the model is early fusion of late fusion"
   ]
  },
  {
   "cell_type": "code",
   "execution_count": 17,
   "metadata": {},
   "outputs": [],
   "source": [
    "IMG_SIZE = 170\n",
    "\n",
    "def format_videos(dataset):\n",
    "    dataset[\"video\"] = tf.cast(dataset[\"video\"], tf.float32)\n",
    "    dataset[\"video\"] = (dataset[\"video\"]/255)\n",
    "    dataset[\"video\"] = tf.image.resize(dataset[\"video\"], (IMG_SIZE,IMG_SIZE))\n",
    "    return dataset\n",
    "    "
   ]
  },
  {
   "cell_type": "code",
   "execution_count": 18,
   "metadata": {},
   "outputs": [],
   "source": [
    "def select_first_frame(dataset):\n",
    "    dataset[\"video\"] = dataset[\"video\"][0]\n",
    "    return dataset \n",
    "    "
   ]
  },
  {
   "cell_type": "code",
   "execution_count": 19,
   "metadata": {},
   "outputs": [],
   "source": [
    "def select_frame_from_i_to_T(dataset,i, T):\n",
    "    dataset[\"video\"] = dataset[\"video\"][i:T]\n",
    "    return dataset"
   ]
  },
  {
   "cell_type": "code",
   "execution_count": 21,
   "metadata": {},
   "outputs": [],
   "source": [
    "def select_frame_at_T(dataset, T):\n",
    "    dataset[\"video\"] = dataset[\"video\"][T]\n",
    "    return dataset "
   ]
  },
  {
   "cell_type": "code",
   "execution_count": 20,
   "metadata": {},
   "outputs": [],
   "source": [
    "def convert_to_tuple(dataset):\n",
    "    x = dataset[\"video\"]\n",
    "    y = dataset[\"label\"]\n",
    "    return x,y "
   ]
  },
  {
   "cell_type": "markdown",
   "metadata": {},
   "source": [
    "changing resizing image and "
   ]
  },
  {
   "cell_type": "code",
   "execution_count": 22,
   "metadata": {},
   "outputs": [
    {
     "name": "stdout",
     "output_type": "stream",
     "text": [
      "tf.Tensor(79, shape=(), dtype=int64)\n",
      "(100, 256, 256, 3)\n",
      "(170, 170, 3)\n"
     ]
    }
   ],
   "source": [
    "train = ucf101_train.map(format_videos)\n",
    "train = train.map(select_first_frame)\n",
    "train = train.map(convert_to_tuple)\n",
    "\n",
    "test = ucf101_test.map(format_videos)\n",
    "test = test.map(select_first_frame)\n",
    "test = test.map(convert_to_tuple)\n",
    "\n",
    "\n",
    "for d in ucf101_train.take(1):\n",
    "    print(d[\"label\"])\n",
    "    print(d[\"video\"].shape)  \n",
    "for x, y in train.take(1):\n",
    "    print(x.shape)   "
   ]
  },
  {
   "cell_type": "markdown",
   "metadata": {},
   "source": [
    "Displaying images in video last image"
   ]
  },
  {
   "cell_type": "markdown",
   "metadata": {},
   "source": [
    "loading test dataset"
   ]
  },
  {
   "cell_type": "code",
   "execution_count": 23,
   "metadata": {},
   "outputs": [
    {
     "data": {
      "text/plain": [
       "TensorShape([Dimension(32), Dimension(170), Dimension(170), Dimension(3)])"
      ]
     },
     "execution_count": 23,
     "metadata": {},
     "output_type": "execute_result"
    }
   ],
   "source": [
    "BATCH_SIZE = 32\n",
    "SHUFFLE_BUFFER_SIZE = 2 #1000\n",
    "train_batches = train.shuffle(SHUFFLE_BUFFER_SIZE).batch(BATCH_SIZE)\n",
    "test_batches = test.batch(BATCH_SIZE)\n",
    "\n",
    "for image_batch, label_batch in train_batches.take(1):\n",
    "    pass\n",
    "\n",
    "image_batch.shape"
   ]
  },
  {
   "cell_type": "markdown",
   "metadata": {},
   "source": [
    "##\n",
    "\n",
    "## Single Frame model"
   ]
  },
  {
   "cell_type": "markdown",
   "metadata": {},
   "source": [
    "Creating single frame model from paper"
   ]
  },
  {
   "cell_type": "markdown",
   "metadata": {},
   "source": [
    "Creating custom layer for local response normalization"
   ]
  },
  {
   "cell_type": "code",
   "execution_count": 24,
   "metadata": {},
   "outputs": [],
   "source": [
    "class MyLRNLayer(tf.keras.layers.Layer):\n",
    "    def __init__(self, depth_radius=5,bias=1,alpha=1,beta=0.5, **kwargs):\n",
    "#         self.output_dim = output_dim\n",
    "        self.depth_radius = depth_radius\n",
    "        self.bias = bias\n",
    "        self.alpha = alpha\n",
    "        self.beta = beta\n",
    "        super(MyLRNLayer, self).__init__(**kwargs)\n",
    "\n",
    "    def build(self, input_shape):\n",
    "        # Create a trainable weight variable for this layer.\n",
    "        self.kernel = self.add_weight(name='kernel', \n",
    "                                      shape=(None),\n",
    "                                      initializer='uniform',\n",
    "                                      trainable=False)\n",
    "        super(MyLRNLayer, self).build(input_shape)  # Be sure to call this at the end\n",
    "\n",
    "    def call(self, x):\n",
    "        return tf.nn.local_response_normalization(x,self.depth_radius,self.bias,self.alpha,self.beta)\n",
    "\n",
    "#     def compute_output_shape(self, input_shape):\n",
    "#         return (input_shape[0], self.output_dim)\n",
    "#         xshape = x.shape\n",
    "#         print(xshape)\n",
    "#         if len(x.shape) == 5:\n",
    "#             x = tf.reshape(x, [xshape[1], xshape[2], xshape[3], xshape[4]])    "
   ]
  },
  {
   "cell_type": "code",
   "execution_count": 15,
   "metadata": {},
   "outputs": [],
   "source": [
    "layer = MyLRNLayer(input_shape=(54, 54, 96),batch_size=1)\n",
    "# print(layer(tf.zeros([1, 54, 54, 96])).shape)\n",
    "t = layer(tf.zeros([1,54, 54, 96]))\n",
    "# tshape = t.shape\n",
    "# print(len(t.shape))\n",
    "# print(tf.reshape(t, [tshape[1], tshape[2], tshape[3]]).shape)\n",
    "# print(len(layer.trainable_variables))"
   ]
  },
  {
   "cell_type": "code",
   "execution_count": 27,
   "metadata": {},
   "outputs": [
    {
     "name": "stdout",
     "output_type": "stream",
     "text": [
      "Model: \"sequential_1\"\n",
      "_________________________________________________________________\n",
      "Layer (type)                 Output Shape              Param #   \n",
      "=================================================================\n",
      "my_lrn_layer_2 (MyLRNLayer)  (1, 170, 170, 3)          1         \n",
      "=================================================================\n",
      "Total params: 1\n",
      "Trainable params: 0\n",
      "Non-trainable params: 1\n",
      "_________________________________________________________________\n"
     ]
    }
   ],
   "source": [
    "modellrn = tf.keras.models.Sequential([MyLRNLayer(input_shape=(170, 170, 3),batch_size=1)])\n",
    "modellrn.build()\n",
    "modellrn.summary()"
   ]
  },
  {
   "cell_type": "code",
   "execution_count": 26,
   "metadata": {},
   "outputs": [],
   "source": [
    "model = tf.keras.models.Sequential([\n",
    "  tf.keras.layers.Conv2D(96, (11,11), strides=3 , activation='relu', input_shape=(170, 170, 3)),\n",
    "    \n",
    "  MyLRNLayer(),  \n",
    "  tf.keras.layers.MaxPooling2D(2, 2),\n",
    "  tf.keras.layers.Conv2D(256, (5,5), strides=1, activation='relu'),\n",
    "    \n",
    "  MyLRNLayer(), \n",
    "  tf.keras.layers.Conv2D(384, (3,3), strides=1, activation='relu'),\n",
    "  tf.keras.layers.MaxPooling2D(2,2),\n",
    "    \n",
    "  tf.keras.layers.Conv2D(384, (3,3), strides=1, activation='relu'),\n",
    "    \n",
    "  tf.keras.layers.Conv2D(256, (3,3), strides=1, activation='relu'),\n",
    "    \n",
    "  tf.keras.layers.MaxPooling2D(2,2),  \n",
    "  tf.keras.layers.Flatten(),\n",
    "    \n",
    "  tf.keras.layers.Dense(4096, activation='relu'),\n",
    "  tf.keras.layers.Dense(4096, activation='relu'),\n",
    "  tf.keras.layers.Dense(101, activation='softmax')\n",
    "])"
   ]
  },
  {
   "cell_type": "code",
   "execution_count": 28,
   "metadata": {},
   "outputs": [
    {
     "name": "stdout",
     "output_type": "stream",
     "text": [
      "Model: \"sequential\"\n",
      "_________________________________________________________________\n",
      "Layer (type)                 Output Shape              Param #   \n",
      "=================================================================\n",
      "conv2d_15 (Conv2D)           (None, 54, 54, 96)        34944     \n",
      "_________________________________________________________________\n",
      "my_lrn_layer (MyLRNLayer)    (None, 54, 54, 96)        1         \n",
      "_________________________________________________________________\n",
      "max_pooling2d_21 (MaxPooling (None, 27, 27, 96)        0         \n",
      "_________________________________________________________________\n",
      "conv2d_16 (Conv2D)           (None, 23, 23, 256)       614656    \n",
      "_________________________________________________________________\n",
      "my_lrn_layer_1 (MyLRNLayer)  (None, 23, 23, 256)       1         \n",
      "_________________________________________________________________\n",
      "conv2d_17 (Conv2D)           (None, 21, 21, 384)       885120    \n",
      "_________________________________________________________________\n",
      "max_pooling2d_22 (MaxPooling (None, 10, 10, 384)       0         \n",
      "_________________________________________________________________\n",
      "conv2d_18 (Conv2D)           (None, 8, 8, 384)         1327488   \n",
      "_________________________________________________________________\n",
      "conv2d_19 (Conv2D)           (None, 6, 6, 256)         884992    \n",
      "_________________________________________________________________\n",
      "max_pooling2d_23 (MaxPooling (None, 3, 3, 256)         0         \n",
      "_________________________________________________________________\n",
      "flatten_3 (Flatten)          (None, 2304)              0         \n",
      "_________________________________________________________________\n",
      "dense_9 (Dense)              (None, 4096)              9441280   \n",
      "_________________________________________________________________\n",
      "dense_10 (Dense)             (None, 4096)              16781312  \n",
      "_________________________________________________________________\n",
      "dense_11 (Dense)             (None, 101)               413797    \n",
      "=================================================================\n",
      "Total params: 30,383,591\n",
      "Trainable params: 30,383,589\n",
      "Non-trainable params: 2\n",
      "_________________________________________________________________\n"
     ]
    }
   ],
   "source": [
    "model.summary()"
   ]
  },
  {
   "cell_type": "code",
   "execution_count": 29,
   "metadata": {},
   "outputs": [],
   "source": [
    "model.compile(optimizer='adam', loss='sparse_categorical_crossentropy', metrics=['accuracy'])"
   ]
  },
  {
   "cell_type": "code",
   "execution_count": 19,
   "metadata": {},
   "outputs": [
    {
     "name": "stderr",
     "output_type": "stream",
     "text": [
      "W0806 23:06:28.013512 4597519808 deprecation.py:323] From /anaconda2/envs/py37/lib/python3.7/site-packages/tensorflow_core/python/ops/math_grad.py:1251: where (from tensorflow.python.ops.array_ops) is deprecated and will be removed in a future version.\n",
      "Instructions for updating:\n",
      "Use tf.where in 2.0, which has the same broadcast rule as np.where\n",
      "W0806 23:06:28.196951 4597519808 deprecation.py:323] From /anaconda2/envs/py37/lib/python3.7/site-packages/tensorflow_core/python/keras/optimizer_v2/optimizer_v2.py:468: BaseResourceVariable.constraint (from tensorflow.python.ops.resource_variable_ops) is deprecated and will be removed in a future version.\n",
      "Instructions for updating:\n",
      "Apply a constraint manually following the optimizer update step.\n"
     ]
    },
    {
     "name": "stdout",
     "output_type": "stream",
     "text": [
      "299/299 [==============================] - 1829s 6s/step - loss: 4.6158 - acc: 0.0095\n"
     ]
    },
    {
     "data": {
      "text/plain": [
       "<tensorflow.python.keras.callbacks.History at 0x12c9f9198>"
      ]
     },
     "execution_count": 19,
     "metadata": {},
     "output_type": "execute_result"
    }
   ],
   "source": [
    "model.fit(train_batches, \n",
    "      epochs=1,\n",
    "      verbose=1)"
   ]
  },
  {
   "cell_type": "markdown",
   "metadata": {},
   "source": [
    "# Improving the single frame model by using batch normalization "
   ]
  },
  {
   "cell_type": "code",
   "execution_count": 30,
   "metadata": {},
   "outputs": [],
   "source": [
    "batch_model = tf.keras.models.Sequential([\n",
    "  tf.keras.layers.Conv2D(96, (11,11), strides=3 , activation='relu', input_shape=(170, 170, 3), batch_size=32),\n",
    "  tf.keras.layers.BatchNormalization(),\n",
    "  tf.keras.layers.MaxPooling2D(pool_size=(2, 2)),\n",
    "  tf.keras.layers.Conv2D(256, (5,5), strides=1, activation='relu'),\n",
    "    \n",
    "  tf.keras.layers.BatchNormalization(),\n",
    "  tf.keras.layers.Conv2D(384, (3,3), strides=1, activation='relu'),\n",
    "  tf.keras.layers.MaxPooling2D(2,2),\n",
    "    \n",
    "  tf.keras.layers.Conv2D(384, (3,3), strides=1, activation='relu'),\n",
    "  tf.keras.layers.Conv2D(256, (3,3), strides=1, activation='relu'),\n",
    "  tf.keras.layers.MaxPooling2D(2,2),  \n",
    "  tf.keras.layers.Flatten(),\n",
    "  tf.keras.layers.Dense(4096, activation='relu'),\n",
    "  tf.keras.layers.Dense(4096, activation='relu'),\n",
    "  tf.keras.layers.Dense(101, activation='softmax')\n",
    "])"
   ]
  },
  {
   "cell_type": "code",
   "execution_count": 31,
   "metadata": {},
   "outputs": [
    {
     "name": "stdout",
     "output_type": "stream",
     "text": [
      "Model: \"sequential_2\"\n",
      "_________________________________________________________________\n",
      "Layer (type)                 Output Shape              Param #   \n",
      "=================================================================\n",
      "conv2d_20 (Conv2D)           (32, 54, 54, 96)          34944     \n",
      "_________________________________________________________________\n",
      "batch_normalization_18 (Batc (32, 54, 54, 96)          384       \n",
      "_________________________________________________________________\n",
      "max_pooling2d_24 (MaxPooling (32, 27, 27, 96)          0         \n",
      "_________________________________________________________________\n",
      "conv2d_21 (Conv2D)           (32, 23, 23, 256)         614656    \n",
      "_________________________________________________________________\n",
      "batch_normalization_19 (Batc (32, 23, 23, 256)         1024      \n",
      "_________________________________________________________________\n",
      "conv2d_22 (Conv2D)           (32, 21, 21, 384)         885120    \n",
      "_________________________________________________________________\n",
      "max_pooling2d_25 (MaxPooling (32, 10, 10, 384)         0         \n",
      "_________________________________________________________________\n",
      "conv2d_23 (Conv2D)           (32, 8, 8, 384)           1327488   \n",
      "_________________________________________________________________\n",
      "conv2d_24 (Conv2D)           (32, 6, 6, 256)           884992    \n",
      "_________________________________________________________________\n",
      "max_pooling2d_26 (MaxPooling (32, 3, 3, 256)           0         \n",
      "_________________________________________________________________\n",
      "flatten_4 (Flatten)          (32, 2304)                0         \n",
      "_________________________________________________________________\n",
      "dense_12 (Dense)             (32, 4096)                9441280   \n",
      "_________________________________________________________________\n",
      "dense_13 (Dense)             (32, 4096)                16781312  \n",
      "_________________________________________________________________\n",
      "dense_14 (Dense)             (32, 101)                 413797    \n",
      "=================================================================\n",
      "Total params: 30,384,997\n",
      "Trainable params: 30,384,293\n",
      "Non-trainable params: 704\n",
      "_________________________________________________________________\n"
     ]
    }
   ],
   "source": [
    "batch_model.summary()"
   ]
  },
  {
   "cell_type": "code",
   "execution_count": 33,
   "metadata": {},
   "outputs": [],
   "source": [
    "batch_model.compile(optimizer='adam', loss='sparse_categorical_crossentropy', metrics=['accuracy'])"
   ]
  },
  {
   "cell_type": "code",
   "execution_count": 34,
   "metadata": {},
   "outputs": [
    {
     "name": "stderr",
     "output_type": "stream",
     "text": [
      "W0818 10:30:33.876883 4813837760 deprecation.py:323] From /anaconda2/envs/py37/lib/python3.7/site-packages/tensorflow_core/python/ops/math_grad.py:1251: where (from tensorflow.python.ops.array_ops) is deprecated and will be removed in a future version.\n",
      "Instructions for updating:\n",
      "Use tf.where in 2.0, which has the same broadcast rule as np.where\n",
      "W0818 10:30:34.338699 4813837760 deprecation.py:323] From /anaconda2/envs/py37/lib/python3.7/site-packages/tensorflow_core/python/keras/optimizer_v2/optimizer_v2.py:468: BaseResourceVariable.constraint (from tensorflow.python.ops.resource_variable_ops) is deprecated and will be removed in a future version.\n",
      "Instructions for updating:\n",
      "Apply a constraint manually following the optimizer update step.\n"
     ]
    },
    {
     "name": "stdout",
     "output_type": "stream",
     "text": [
      "\r",
      "      1/Unknown - 7s 7s/step - loss: 4.6770 - acc: 0.0000e+00"
     ]
    },
    {
     "ename": "KeyboardInterrupt",
     "evalue": "",
     "traceback": [
      "\u001b[0;31m---------------------------------------------------------------------------\u001b[0m",
      "\u001b[0;31mKeyboardInterrupt\u001b[0m                         Traceback (most recent call last)",
      "\u001b[0;32m<ipython-input-34-ef24366dad50>\u001b[0m in \u001b[0;36m<module>\u001b[0;34m\u001b[0m\n\u001b[1;32m      1\u001b[0m batch_model.fit(train_batches, \n\u001b[1;32m      2\u001b[0m       \u001b[0mepochs\u001b[0m\u001b[0;34m=\u001b[0m\u001b[0;36m1\u001b[0m\u001b[0;34m,\u001b[0m\u001b[0;34m\u001b[0m\u001b[0;34m\u001b[0m\u001b[0m\n\u001b[0;32m----> 3\u001b[0;31m       verbose=1)\n\u001b[0m",
      "\u001b[0;32m/anaconda2/envs/py37/lib/python3.7/site-packages/tensorflow_core/python/keras/engine/training.py\u001b[0m in \u001b[0;36mfit\u001b[0;34m(self, x, y, batch_size, epochs, verbose, callbacks, validation_split, validation_data, shuffle, class_weight, sample_weight, initial_epoch, steps_per_epoch, validation_steps, validation_freq, max_queue_size, workers, use_multiprocessing, **kwargs)\u001b[0m\n\u001b[1;32m    708\u001b[0m         \u001b[0mmax_queue_size\u001b[0m\u001b[0;34m=\u001b[0m\u001b[0mmax_queue_size\u001b[0m\u001b[0;34m,\u001b[0m\u001b[0;34m\u001b[0m\u001b[0;34m\u001b[0m\u001b[0m\n\u001b[1;32m    709\u001b[0m         \u001b[0mworkers\u001b[0m\u001b[0;34m=\u001b[0m\u001b[0mworkers\u001b[0m\u001b[0;34m,\u001b[0m\u001b[0;34m\u001b[0m\u001b[0;34m\u001b[0m\u001b[0m\n\u001b[0;32m--> 710\u001b[0;31m         use_multiprocessing=use_multiprocessing)\n\u001b[0m\u001b[1;32m    711\u001b[0m \u001b[0;34m\u001b[0m\u001b[0m\n\u001b[1;32m    712\u001b[0m   def evaluate(self,\n",
      "\u001b[0;32m/anaconda2/envs/py37/lib/python3.7/site-packages/tensorflow_core/python/keras/engine/training_generator.py\u001b[0m in \u001b[0;36mfit\u001b[0;34m(self, model, x, y, batch_size, epochs, verbose, callbacks, validation_split, validation_data, shuffle, class_weight, sample_weight, initial_epoch, steps_per_epoch, validation_steps, validation_freq, **kwargs)\u001b[0m\n\u001b[1;32m    691\u001b[0m         \u001b[0mshuffle\u001b[0m\u001b[0;34m=\u001b[0m\u001b[0mshuffle\u001b[0m\u001b[0;34m,\u001b[0m\u001b[0;34m\u001b[0m\u001b[0;34m\u001b[0m\u001b[0m\n\u001b[1;32m    692\u001b[0m         \u001b[0minitial_epoch\u001b[0m\u001b[0;34m=\u001b[0m\u001b[0minitial_epoch\u001b[0m\u001b[0;34m,\u001b[0m\u001b[0;34m\u001b[0m\u001b[0;34m\u001b[0m\u001b[0m\n\u001b[0;32m--> 693\u001b[0;31m         steps_name='steps_per_epoch')\n\u001b[0m\u001b[1;32m    694\u001b[0m \u001b[0;34m\u001b[0m\u001b[0m\n\u001b[1;32m    695\u001b[0m   def evaluate(self,\n",
      "\u001b[0;32m/anaconda2/envs/py37/lib/python3.7/site-packages/tensorflow_core/python/keras/engine/training_generator.py\u001b[0m in \u001b[0;36mmodel_iteration\u001b[0;34m(model, data, steps_per_epoch, epochs, verbose, callbacks, validation_data, validation_steps, validation_freq, class_weight, max_queue_size, workers, use_multiprocessing, shuffle, initial_epoch, mode, batch_size, steps_name, **kwargs)\u001b[0m\n\u001b[1;32m    263\u001b[0m \u001b[0;34m\u001b[0m\u001b[0m\n\u001b[1;32m    264\u001b[0m       \u001b[0mis_deferred\u001b[0m \u001b[0;34m=\u001b[0m \u001b[0;32mnot\u001b[0m \u001b[0mmodel\u001b[0m\u001b[0;34m.\u001b[0m\u001b[0m_is_compiled\u001b[0m\u001b[0;34m\u001b[0m\u001b[0;34m\u001b[0m\u001b[0m\n\u001b[0;32m--> 265\u001b[0;31m       \u001b[0mbatch_outs\u001b[0m \u001b[0;34m=\u001b[0m \u001b[0mbatch_function\u001b[0m\u001b[0;34m(\u001b[0m\u001b[0;34m*\u001b[0m\u001b[0mbatch_data\u001b[0m\u001b[0;34m)\u001b[0m\u001b[0;34m\u001b[0m\u001b[0;34m\u001b[0m\u001b[0m\n\u001b[0m\u001b[1;32m    266\u001b[0m       \u001b[0;32mif\u001b[0m \u001b[0;32mnot\u001b[0m \u001b[0misinstance\u001b[0m\u001b[0;34m(\u001b[0m\u001b[0mbatch_outs\u001b[0m\u001b[0;34m,\u001b[0m \u001b[0mlist\u001b[0m\u001b[0;34m)\u001b[0m\u001b[0;34m:\u001b[0m\u001b[0;34m\u001b[0m\u001b[0;34m\u001b[0m\u001b[0m\n\u001b[1;32m    267\u001b[0m         \u001b[0mbatch_outs\u001b[0m \u001b[0;34m=\u001b[0m \u001b[0;34m[\u001b[0m\u001b[0mbatch_outs\u001b[0m\u001b[0;34m]\u001b[0m\u001b[0;34m\u001b[0m\u001b[0;34m\u001b[0m\u001b[0m\n",
      "\u001b[0;32m/anaconda2/envs/py37/lib/python3.7/site-packages/tensorflow_core/python/keras/engine/training.py\u001b[0m in \u001b[0;36mtrain_on_batch\u001b[0;34m(self, x, y, sample_weight, class_weight, reset_metrics)\u001b[0m\n\u001b[1;32m    984\u001b[0m       \u001b[0mself\u001b[0m\u001b[0;34m.\u001b[0m\u001b[0m_update_sample_weight_modes\u001b[0m\u001b[0;34m(\u001b[0m\u001b[0msample_weights\u001b[0m\u001b[0;34m=\u001b[0m\u001b[0msample_weights\u001b[0m\u001b[0;34m)\u001b[0m\u001b[0;34m\u001b[0m\u001b[0;34m\u001b[0m\u001b[0m\n\u001b[1;32m    985\u001b[0m       \u001b[0mself\u001b[0m\u001b[0;34m.\u001b[0m\u001b[0m_make_train_function\u001b[0m\u001b[0;34m(\u001b[0m\u001b[0;34m)\u001b[0m\u001b[0;34m\u001b[0m\u001b[0;34m\u001b[0m\u001b[0m\n\u001b[0;32m--> 986\u001b[0;31m       \u001b[0moutputs\u001b[0m \u001b[0;34m=\u001b[0m \u001b[0mself\u001b[0m\u001b[0;34m.\u001b[0m\u001b[0mtrain_function\u001b[0m\u001b[0;34m(\u001b[0m\u001b[0mins\u001b[0m\u001b[0;34m)\u001b[0m  \u001b[0;31m# pylint: disable=not-callable\u001b[0m\u001b[0;34m\u001b[0m\u001b[0;34m\u001b[0m\u001b[0m\n\u001b[0m\u001b[1;32m    987\u001b[0m \u001b[0;34m\u001b[0m\u001b[0m\n\u001b[1;32m    988\u001b[0m     \u001b[0;32mif\u001b[0m \u001b[0mreset_metrics\u001b[0m\u001b[0;34m:\u001b[0m\u001b[0;34m\u001b[0m\u001b[0;34m\u001b[0m\u001b[0m\n",
      "\u001b[0;32m/anaconda2/envs/py37/lib/python3.7/site-packages/tensorflow_core/python/keras/backend.py\u001b[0m in \u001b[0;36m__call__\u001b[0;34m(self, inputs)\u001b[0m\n\u001b[1;32m   3497\u001b[0m         \u001b[0mvalue\u001b[0m \u001b[0;34m=\u001b[0m \u001b[0mmath_ops\u001b[0m\u001b[0;34m.\u001b[0m\u001b[0mcast\u001b[0m\u001b[0;34m(\u001b[0m\u001b[0mvalue\u001b[0m\u001b[0;34m,\u001b[0m \u001b[0mtensor\u001b[0m\u001b[0;34m.\u001b[0m\u001b[0mdtype\u001b[0m\u001b[0;34m)\u001b[0m\u001b[0;34m\u001b[0m\u001b[0;34m\u001b[0m\u001b[0m\n\u001b[1;32m   3498\u001b[0m       \u001b[0mconverted_inputs\u001b[0m\u001b[0;34m.\u001b[0m\u001b[0mappend\u001b[0m\u001b[0;34m(\u001b[0m\u001b[0mvalue\u001b[0m\u001b[0;34m)\u001b[0m\u001b[0;34m\u001b[0m\u001b[0;34m\u001b[0m\u001b[0m\n\u001b[0;32m-> 3499\u001b[0;31m     \u001b[0moutputs\u001b[0m \u001b[0;34m=\u001b[0m \u001b[0mself\u001b[0m\u001b[0;34m.\u001b[0m\u001b[0m_graph_fn\u001b[0m\u001b[0;34m(\u001b[0m\u001b[0;34m*\u001b[0m\u001b[0mconverted_inputs\u001b[0m\u001b[0;34m)\u001b[0m\u001b[0;34m\u001b[0m\u001b[0;34m\u001b[0m\u001b[0m\n\u001b[0m\u001b[1;32m   3500\u001b[0m \u001b[0;34m\u001b[0m\u001b[0m\n\u001b[1;32m   3501\u001b[0m     \u001b[0;31m# EagerTensor.numpy() will often make a copy to ensure memory safety.\u001b[0m\u001b[0;34m\u001b[0m\u001b[0;34m\u001b[0m\u001b[0;34m\u001b[0m\u001b[0m\n",
      "\u001b[0;32m/anaconda2/envs/py37/lib/python3.7/site-packages/tensorflow_core/python/eager/function.py\u001b[0m in \u001b[0;36m__call__\u001b[0;34m(self, *args, **kwargs)\u001b[0m\n\u001b[1;32m    603\u001b[0m       \u001b[0mTypeError\u001b[0m\u001b[0;34m:\u001b[0m \u001b[0mFor\u001b[0m \u001b[0minvalid\u001b[0m \u001b[0mpositional\u001b[0m\u001b[0;34m/\u001b[0m\u001b[0mkeyword\u001b[0m \u001b[0margument\u001b[0m \u001b[0mcombinations\u001b[0m\u001b[0;34m.\u001b[0m\u001b[0;34m\u001b[0m\u001b[0;34m\u001b[0m\u001b[0m\n\u001b[1;32m    604\u001b[0m     \"\"\"\n\u001b[0;32m--> 605\u001b[0;31m     \u001b[0;32mreturn\u001b[0m \u001b[0mself\u001b[0m\u001b[0;34m.\u001b[0m\u001b[0m_call_impl\u001b[0m\u001b[0;34m(\u001b[0m\u001b[0margs\u001b[0m\u001b[0;34m,\u001b[0m \u001b[0mkwargs\u001b[0m\u001b[0;34m)\u001b[0m\u001b[0;34m\u001b[0m\u001b[0;34m\u001b[0m\u001b[0m\n\u001b[0m\u001b[1;32m    606\u001b[0m \u001b[0;34m\u001b[0m\u001b[0m\n\u001b[1;32m    607\u001b[0m   \u001b[0;32mdef\u001b[0m \u001b[0m_call_impl\u001b[0m\u001b[0;34m(\u001b[0m\u001b[0mself\u001b[0m\u001b[0;34m,\u001b[0m \u001b[0margs\u001b[0m\u001b[0;34m,\u001b[0m \u001b[0mkwargs\u001b[0m\u001b[0;34m,\u001b[0m \u001b[0mcancellation_manager\u001b[0m\u001b[0;34m=\u001b[0m\u001b[0;32mNone\u001b[0m\u001b[0;34m)\u001b[0m\u001b[0;34m:\u001b[0m\u001b[0;34m\u001b[0m\u001b[0;34m\u001b[0m\u001b[0m\n",
      "\u001b[0;32m/anaconda2/envs/py37/lib/python3.7/site-packages/tensorflow_core/python/eager/function.py\u001b[0m in \u001b[0;36m_call_impl\u001b[0;34m(self, args, kwargs, cancellation_manager)\u001b[0m\n\u001b[1;32m    643\u001b[0m       raise TypeError(\"Keyword arguments {} unknown. Expected {}.\".format(\n\u001b[1;32m    644\u001b[0m           list(kwargs.keys()), list(self._arg_keywords)))\n\u001b[0;32m--> 645\u001b[0;31m     \u001b[0;32mreturn\u001b[0m \u001b[0mself\u001b[0m\u001b[0;34m.\u001b[0m\u001b[0m_call_flat\u001b[0m\u001b[0;34m(\u001b[0m\u001b[0margs\u001b[0m\u001b[0;34m,\u001b[0m \u001b[0mself\u001b[0m\u001b[0;34m.\u001b[0m\u001b[0mcaptured_inputs\u001b[0m\u001b[0;34m,\u001b[0m \u001b[0mcancellation_manager\u001b[0m\u001b[0;34m)\u001b[0m\u001b[0;34m\u001b[0m\u001b[0;34m\u001b[0m\u001b[0m\n\u001b[0m\u001b[1;32m    646\u001b[0m \u001b[0;34m\u001b[0m\u001b[0m\n\u001b[1;32m    647\u001b[0m   \u001b[0;32mdef\u001b[0m \u001b[0m_filtered_call\u001b[0m\u001b[0;34m(\u001b[0m\u001b[0mself\u001b[0m\u001b[0;34m,\u001b[0m \u001b[0margs\u001b[0m\u001b[0;34m,\u001b[0m \u001b[0mkwargs\u001b[0m\u001b[0;34m)\u001b[0m\u001b[0;34m:\u001b[0m\u001b[0;34m\u001b[0m\u001b[0;34m\u001b[0m\u001b[0m\n",
      "\u001b[0;32m/anaconda2/envs/py37/lib/python3.7/site-packages/tensorflow_core/python/eager/function.py\u001b[0m in \u001b[0;36m_call_flat\u001b[0;34m(self, args, captured_inputs, cancellation_manager)\u001b[0m\n\u001b[1;32m    776\u001b[0m     \u001b[0;32mif\u001b[0m \u001b[0mcontext\u001b[0m\u001b[0;34m.\u001b[0m\u001b[0mexecuting_eagerly\u001b[0m\u001b[0;34m(\u001b[0m\u001b[0;34m)\u001b[0m \u001b[0;32mor\u001b[0m \u001b[0;32mnot\u001b[0m \u001b[0mself\u001b[0m\u001b[0;34m.\u001b[0m\u001b[0moutputs\u001b[0m\u001b[0;34m:\u001b[0m\u001b[0;34m\u001b[0m\u001b[0;34m\u001b[0m\u001b[0m\n\u001b[1;32m    777\u001b[0m       outputs = self._inference_function.call(\n\u001b[0;32m--> 778\u001b[0;31m           ctx, args, cancellation_manager=cancellation_manager)\n\u001b[0m\u001b[1;32m    779\u001b[0m     \u001b[0;32melse\u001b[0m\u001b[0;34m:\u001b[0m\u001b[0;34m\u001b[0m\u001b[0;34m\u001b[0m\u001b[0m\n\u001b[1;32m    780\u001b[0m       \u001b[0mself\u001b[0m\u001b[0;34m.\u001b[0m\u001b[0m_register_gradient\u001b[0m\u001b[0;34m(\u001b[0m\u001b[0;34m)\u001b[0m\u001b[0;34m\u001b[0m\u001b[0;34m\u001b[0m\u001b[0m\n",
      "\u001b[0;32m/anaconda2/envs/py37/lib/python3.7/site-packages/tensorflow_core/python/eager/function.py\u001b[0m in \u001b[0;36mcall\u001b[0;34m(self, ctx, args, cancellation_manager)\u001b[0m\n\u001b[1;32m    469\u001b[0m               \u001b[0minputs\u001b[0m\u001b[0;34m=\u001b[0m\u001b[0margs\u001b[0m\u001b[0;34m,\u001b[0m\u001b[0;34m\u001b[0m\u001b[0;34m\u001b[0m\u001b[0m\n\u001b[1;32m    470\u001b[0m               \u001b[0mattrs\u001b[0m\u001b[0;34m=\u001b[0m\u001b[0;34m(\u001b[0m\u001b[0;34m\"executor_type\"\u001b[0m\u001b[0;34m,\u001b[0m \u001b[0mexecutor_type\u001b[0m\u001b[0;34m,\u001b[0m \u001b[0;34m\"config_proto\"\u001b[0m\u001b[0;34m,\u001b[0m \u001b[0mconfig\u001b[0m\u001b[0;34m)\u001b[0m\u001b[0;34m,\u001b[0m\u001b[0;34m\u001b[0m\u001b[0;34m\u001b[0m\u001b[0m\n\u001b[0;32m--> 471\u001b[0;31m               ctx=ctx)\n\u001b[0m\u001b[1;32m    472\u001b[0m         \u001b[0;32melse\u001b[0m\u001b[0;34m:\u001b[0m\u001b[0;34m\u001b[0m\u001b[0;34m\u001b[0m\u001b[0m\n\u001b[1;32m    473\u001b[0m           outputs = execute.execute_with_cancellation(\n",
      "\u001b[0;32m/anaconda2/envs/py37/lib/python3.7/site-packages/tensorflow_core/python/eager/execute.py\u001b[0m in \u001b[0;36mquick_execute\u001b[0;34m(op_name, num_outputs, inputs, attrs, ctx, name)\u001b[0m\n\u001b[1;32m     59\u001b[0m     tensors = pywrap_tensorflow.TFE_Py_Execute(ctx._handle, device_name,\n\u001b[1;32m     60\u001b[0m                                                \u001b[0mop_name\u001b[0m\u001b[0;34m,\u001b[0m \u001b[0minputs\u001b[0m\u001b[0;34m,\u001b[0m \u001b[0mattrs\u001b[0m\u001b[0;34m,\u001b[0m\u001b[0;34m\u001b[0m\u001b[0;34m\u001b[0m\u001b[0m\n\u001b[0;32m---> 61\u001b[0;31m                                                num_outputs)\n\u001b[0m\u001b[1;32m     62\u001b[0m   \u001b[0;32mexcept\u001b[0m \u001b[0mcore\u001b[0m\u001b[0;34m.\u001b[0m\u001b[0m_NotOkStatusException\u001b[0m \u001b[0;32mas\u001b[0m \u001b[0me\u001b[0m\u001b[0;34m:\u001b[0m\u001b[0;34m\u001b[0m\u001b[0;34m\u001b[0m\u001b[0m\n\u001b[1;32m     63\u001b[0m     \u001b[0;32mif\u001b[0m \u001b[0mname\u001b[0m \u001b[0;32mis\u001b[0m \u001b[0;32mnot\u001b[0m \u001b[0;32mNone\u001b[0m\u001b[0;34m:\u001b[0m\u001b[0;34m\u001b[0m\u001b[0;34m\u001b[0m\u001b[0m\n",
      "\u001b[0;31mKeyboardInterrupt\u001b[0m: "
     ],
     "output_type": "error"
    }
   ],
   "source": [
    "batch_model.fit(train_batches, \n",
    "      epochs=1,\n",
    "      verbose=1)"
   ]
  },
  {
   "cell_type": "code",
   "execution_count": 22,
   "metadata": {
    "scrolled": true
   },
   "outputs": [
    {
     "name": "stdout",
     "output_type": "stream",
     "text": [
      "101\n",
      "9537\n"
     ]
    }
   ],
   "source": [
    "data, info = tfds.load(\"ucf101\", with_info=True)\n",
    "train_data, test_data = data['train'], data['test']\n",
    "assert isinstance(train_data, tf.data.Dataset)\n",
    "print(info.features['label'].num_classes)\n",
    "print(info.splits['train'].num_examples)"
   ]
  },
  {
   "cell_type": "code",
   "execution_count": null,
   "metadata": {},
   "outputs": [],
   "source": [
    "history = model.fit_generator(train_generator,\n",
    "#       steps_per_epoch=8,  \n",
    "      epochs=1,\n",
    "      verbose=1,\n",
    "      callbacks=[callbacks])"
   ]
  },
  {
   "cell_type": "markdown",
   "metadata": {},
   "source": [
    "# Early Fusion\n",
    "\n"
   ]
  },
  {
   "cell_type": "markdown",
   "metadata": {},
   "source": [
    "## Early Fusion with Local response normalization"
   ]
  },
  {
   "cell_type": "code",
   "execution_count": 221,
   "metadata": {},
   "outputs": [
    {
     "data": {
      "text/plain": [
       "TensorShape([Dimension(32), Dimension(10), Dimension(170), Dimension(170), Dimension(3)])"
      ]
     },
     "execution_count": 221,
     "metadata": {},
     "output_type": "execute_result"
    }
   ],
   "source": [
    "train_multi_frame_T = ucf101_train.map(format_videos)\n",
    "train_multi_frame_T = train_multi_frame_T.map(lambda x: select_frame_from_i_to_T(x,10,20))\n",
    "train_multi_frame_T = train_multi_frame_T.map(convert_to_tuple)\n",
    "\n",
    "test_multi_frame_T = ucf101_test.map(format_videos)\n",
    "test_multi_frame_T = test_multi_frame_T.map(lambda x:select_frame_from_i_to_T(x,10,20))\n",
    "test_multi_frame_T = test_multi_frame_T.map(convert_to_tuple)\n",
    "\n",
    "# train_multi_frame_T_batches = train_multi_frame_T.shuffle(SHUFFLE_BUFFER_SIZE).batch(BATCH_SIZE)\n",
    "train_multi_frame_T_batches = train_multi_frame_T.batch(BATCH_SIZE)\n",
    "test_multi_frame_T_batches = test_multi_frame_T.batch(BATCH_SIZE)\n",
    "\n",
    "for image_batch, label_batch in train_multi_frame_T_batches.take(1):\n",
    "    pass\n",
    "\n",
    "image_batch.shape\n"
   ]
  },
  {
   "cell_type": "code",
   "execution_count": 202,
   "metadata": {},
   "outputs": [],
   "source": [
    "model_early_fusion_lrn = tf.keras.models.Sequential([\n",
    "  tf.keras.layers.Conv3D(96, (10,11,11), strides=3 , activation='relu', input_shape=(10,170, 170, 3)),\n",
    "  tf.keras.layers.Reshape((54, 54,96)),  \n",
    "  MyLRNLayer(),  \n",
    "  tf.keras.layers.MaxPooling2D(2, 2),\n",
    "  tf.keras.layers.Conv2D(256, (5,5), strides=1, activation='relu'),\n",
    "    \n",
    "  MyLRNLayer(), \n",
    "  tf.keras.layers.Conv2D(384, (3,3), strides=1, activation='relu'),\n",
    "  tf.keras.layers.MaxPooling2D(2,2),\n",
    "    \n",
    "  tf.keras.layers.Conv2D(384, (3,3), strides=1, activation='relu'),\n",
    "    \n",
    "  tf.keras.layers.Conv2D(256, (3,3), strides=1, activation='relu'),\n",
    "    \n",
    "  tf.keras.layers.MaxPooling2D(2,2),  \n",
    "  tf.keras.layers.Flatten(),\n",
    "    \n",
    "  tf.keras.layers.Dense(4096, activation='relu'),\n",
    "  tf.keras.layers.Dense(4096, activation='relu'),\n",
    "  tf.keras.layers.Dense(101, activation='softmax')\n",
    "])"
   ]
  },
  {
   "cell_type": "code",
   "execution_count": 203,
   "metadata": {},
   "outputs": [
    {
     "name": "stdout",
     "output_type": "stream",
     "text": [
      "Model: \"sequential_33\"\n",
      "_________________________________________________________________\n",
      "Layer (type)                 Output Shape              Param #   \n",
      "=================================================================\n",
      "conv3d_19 (Conv3D)           (None, 1, 54, 54, 96)     348576    \n",
      "_________________________________________________________________\n",
      "reshape_1 (Reshape)          (None, 54, 54, 96)        0         \n",
      "_________________________________________________________________\n",
      "my_lrn_layer_74 (MyLRNLayer) (None, 54, 54, 96)        1         \n",
      "_________________________________________________________________\n",
      "max_pooling2d_68 (MaxPooling (None, 27, 27, 96)        0         \n",
      "_________________________________________________________________\n",
      "conv2d_98 (Conv2D)           (None, 23, 23, 256)       614656    \n",
      "_________________________________________________________________\n",
      "my_lrn_layer_75 (MyLRNLayer) (None, 23, 23, 256)       1         \n",
      "_________________________________________________________________\n",
      "conv2d_99 (Conv2D)           (None, 21, 21, 384)       885120    \n",
      "_________________________________________________________________\n",
      "max_pooling2d_69 (MaxPooling (None, 10, 10, 384)       0         \n",
      "_________________________________________________________________\n",
      "conv2d_100 (Conv2D)          (None, 8, 8, 384)         1327488   \n",
      "_________________________________________________________________\n",
      "conv2d_101 (Conv2D)          (None, 6, 6, 256)         884992    \n",
      "_________________________________________________________________\n",
      "max_pooling2d_70 (MaxPooling (None, 3, 3, 256)         0         \n",
      "_________________________________________________________________\n",
      "flatten_25 (Flatten)         (None, 2304)              0         \n",
      "_________________________________________________________________\n",
      "dense_71 (Dense)             (None, 4096)              9441280   \n",
      "_________________________________________________________________\n",
      "dense_72 (Dense)             (None, 4096)              16781312  \n",
      "_________________________________________________________________\n",
      "dense_73 (Dense)             (None, 101)               413797    \n",
      "=================================================================\n",
      "Total params: 30,697,223\n",
      "Trainable params: 30,697,221\n",
      "Non-trainable params: 2\n",
      "_________________________________________________________________\n"
     ]
    }
   ],
   "source": [
    "model_early_fusion_lrn.summary()"
   ]
  },
  {
   "cell_type": "code",
   "execution_count": 204,
   "metadata": {},
   "outputs": [],
   "source": [
    "model_early_fusion_lrn.compile(optimizer='adam', loss='sparse_categorical_crossentropy', metrics=['accuracy'])"
   ]
  },
  {
   "cell_type": "code",
   "execution_count": 209,
   "metadata": {},
   "outputs": [
    {
     "name": "stderr",
     "output_type": "stream",
     "text": [
      "W0810 10:19:55.103113 4579505600 deprecation.py:323] From /anaconda2/envs/py37/lib/python3.7/site-packages/tensorflow_core/python/ops/math_grad.py:1251: where (from tensorflow.python.ops.array_ops) is deprecated and will be removed in a future version.\n",
      "Instructions for updating:\n",
      "Use tf.where in 2.0, which has the same broadcast rule as np.where\n",
      "W0810 10:19:55.442255 4579505600 deprecation.py:323] From /anaconda2/envs/py37/lib/python3.7/site-packages/tensorflow_core/python/keras/optimizer_v2/optimizer_v2.py:468: BaseResourceVariable.constraint (from tensorflow.python.ops.resource_variable_ops) is deprecated and will be removed in a future version.\n",
      "Instructions for updating:\n",
      "Apply a constraint manually following the optimizer update step.\n"
     ]
    },
    {
     "name": "stdout",
     "output_type": "stream",
     "text": [
      "299/299 [==============================] - 3207s 11s/step - loss: 4.6180 - acc: 0.0093\n"
     ]
    },
    {
     "data": {
      "text/plain": [
       "<tensorflow.python.keras.callbacks.History at 0x1a57bd1550>"
      ]
     },
     "execution_count": 209,
     "metadata": {},
     "output_type": "execute_result"
    }
   ],
   "source": [
    "model_early_fusion_lrn.fit(train_multi_frame_T_batches, \n",
    "      epochs=1,\n",
    "      verbose=1)"
   ]
  },
  {
   "cell_type": "markdown",
   "metadata": {},
   "source": [
    "## Early Fusion with Batch normalization"
   ]
  },
  {
   "cell_type": "code",
   "execution_count": null,
   "metadata": {},
   "outputs": [],
   "source": []
  },
  {
   "cell_type": "code",
   "execution_count": null,
   "metadata": {},
   "outputs": [],
   "source": []
  },
  {
   "cell_type": "code",
   "execution_count": 105,
   "metadata": {},
   "outputs": [],
   "source": [
    "model_early_fusion_batch = tf.keras.models.Sequential([\n",
    "  tf.keras.layers.Conv3D(96, (10,11,11), strides=3 , activation='relu', input_shape=(10,170, 170, 3)),\n",
    "  tf.keras.layers.Reshape((54, 54,96)),  \n",
    "  tf.keras.layers.BatchNormalization(), \n",
    "  tf.keras.layers.MaxPooling2D(2, 2),\n",
    "  tf.keras.layers.Conv2D(256, (5,5), strides=1, activation='relu'),\n",
    "    \n",
    "  tf.keras.layers.BatchNormalization(), \n",
    "  tf.keras.layers.Conv2D(384, (3,3), strides=1, activation='relu'),\n",
    "  tf.keras.layers.MaxPooling2D(2,2),\n",
    "    \n",
    "  tf.keras.layers.Conv2D(384, (3,3), strides=1, activation='relu'),\n",
    "    \n",
    "  tf.keras.layers.Conv2D(256, (3,3), strides=1, activation='relu'),\n",
    "    \n",
    "  tf.keras.layers.MaxPooling2D(2,2),  \n",
    "  tf.keras.layers.Flatten(),\n",
    "    \n",
    "  tf.keras.layers.Dense(4096, activation='relu'),\n",
    "  tf.keras.layers.Dense(4096, activation='relu'),\n",
    "  tf.keras.layers.Dense(101, activation='softmax')\n",
    "])"
   ]
  },
  {
   "cell_type": "code",
   "execution_count": 106,
   "metadata": {},
   "outputs": [
    {
     "ename": "NameError",
     "evalue": "name 'train_multi_frame_T_batches' is not defined",
     "traceback": [
      "\u001b[0;31m---------------------------------------------------------------------------\u001b[0m",
      "\u001b[0;31mNameError\u001b[0m                                 Traceback (most recent call last)",
      "\u001b[0;32m<ipython-input-106-b98c22f75d19>\u001b[0m in \u001b[0;36m<module>\u001b[0;34m\u001b[0m\n\u001b[1;32m      1\u001b[0m \u001b[0mmodel_early_fusion_batch\u001b[0m\u001b[0;34m.\u001b[0m\u001b[0mcompile\u001b[0m\u001b[0;34m(\u001b[0m\u001b[0moptimizer\u001b[0m\u001b[0;34m=\u001b[0m\u001b[0;34m'adam'\u001b[0m\u001b[0;34m,\u001b[0m \u001b[0mloss\u001b[0m\u001b[0;34m=\u001b[0m\u001b[0;34m'sparse_categorical_crossentropy'\u001b[0m\u001b[0;34m,\u001b[0m \u001b[0mmetrics\u001b[0m\u001b[0;34m=\u001b[0m\u001b[0;34m[\u001b[0m\u001b[0;34m'accuracy'\u001b[0m\u001b[0;34m]\u001b[0m\u001b[0;34m)\u001b[0m\u001b[0;34m\u001b[0m\u001b[0;34m\u001b[0m\u001b[0m\n\u001b[0;32m----> 2\u001b[0;31m model_early_fusion_batch.fit(train_multi_frame_T_batches, \n\u001b[0m\u001b[1;32m      3\u001b[0m       \u001b[0mepochs\u001b[0m\u001b[0;34m=\u001b[0m\u001b[0;36m1\u001b[0m\u001b[0;34m,\u001b[0m\u001b[0;34m\u001b[0m\u001b[0;34m\u001b[0m\u001b[0m\n\u001b[1;32m      4\u001b[0m       verbose=1)\n",
      "\u001b[0;31mNameError\u001b[0m: name 'train_multi_frame_T_batches' is not defined"
     ],
     "output_type": "error"
    }
   ],
   "source": [
    "model_early_fusion_batch.compile(optimizer='adam', loss='sparse_categorical_crossentropy', metrics=['accuracy'])\n",
    "model_early_fusion_batch.fit(train_multi_frame_T_batches, \n",
    "      epochs=1,\n",
    "      verbose=1)"
   ]
  },
  {
   "cell_type": "code",
   "execution_count": null,
   "metadata": {},
   "outputs": [],
   "source": []
  },
  {
   "cell_type": "code",
   "execution_count": null,
   "metadata": {},
   "outputs": [],
   "source": []
  },
  {
   "cell_type": "markdown",
   "metadata": {},
   "source": [
    "# Late Fusion"
   ]
  },
  {
   "cell_type": "code",
   "execution_count": null,
   "metadata": {},
   "outputs": [],
   "source": [
    "x = model.layers[index].output"
   ]
  },
  {
   "cell_type": "markdown",
   "metadata": {},
   "source": [
    "## Late Fusion with Local response normalization"
   ]
  },
  {
   "cell_type": "code",
   "execution_count": 40,
   "metadata": {},
   "outputs": [],
   "source": [
    "def get_label(dataset):\n",
    "    x = dataset[\"video\"]\n",
    "    return y \n",
    "\n",
    "def get_video(dataset):\n",
    "    x = dataset[\"video\"]\n",
    "    return x "
   ]
  },
  {
   "cell_type": "code",
   "execution_count": 41,
   "metadata": {},
   "outputs": [
    {
     "name": "stdout",
     "output_type": "stream",
     "text": [
      "(170, 170, 3)\n",
      "(170, 170, 3)\n",
      "()\n"
     ]
    },
    {
     "data": {
      "text/plain": [
       "<generator object _eager_dataset_iterator at 0x1a44516750>"
      ]
     },
     "execution_count": 41,
     "metadata": {},
     "output_type": "execute_result"
    }
   ],
   "source": [
    "train_start = ucf101_train.map(format_videos)\n",
    "train_start = train_start.map(lambda x: select_frame_at_T(x,0))\n",
    "train_start_all = train_start\n",
    "train_start_label = train_start.map(get_label)\n",
    "train_start = train_start.map(get_video)\n",
    "\n",
    "\n",
    "\n",
    "test_start = ucf101_test.map(format_videos)\n",
    "test_start = test_start.map(lambda x: select_frame_at_T(x,0))\n",
    "test_start_all = test_start\n",
    "test_start_label = test_start.map(get_label)\n",
    "test_start = test_start.map(get_video)\n",
    "\n",
    "\n",
    "# test_start, test_start_label = test_start.map(convert_to_tuple)\n",
    "\n",
    "\n",
    "train_end = ucf101_train.map(format_videos)\n",
    "train_end = train_end.map(lambda x: select_frame_at_T(x,10))\n",
    "train_end_all = train_end\n",
    "train_end_label = train_end.map(get_label)\n",
    "train_end = train_end.map(get_video)\n",
    "\n",
    "\n",
    "# train_end, train_end_label = train_end.map(convert_to_tuple)\n",
    "\n",
    "test_end = ucf101_test.map(format_videos)\n",
    "test_end = test_end.map(lambda x: select_frame_at_T(x,10))\n",
    "test_end_all = test_end\n",
    "test_end_label = test_end.map(get_label)\n",
    "test_end = test_end.map(get_video)\n",
    "# test_end, test_end_label = test_end.map(convert_to_tuple)\n",
    "\n",
    "for x in train_start.take(1):\n",
    "    print(x.shape)\n",
    "for x in train_end.take(1):\n",
    "    print(x.shape)\n",
    "for x in test_start_label.take(1):\n",
    "    print(x.shape)       \n",
    "#     print(y.shape, y)\n",
    "\n",
    "tfds.as_numpy(test_end)\n",
    "    \n",
    "# for x, y in train_end.take(1):\n",
    "#     print(x.shape)\n",
    "#     print(y.shape, y)    "
   ]
  },
  {
   "cell_type": "code",
   "execution_count": 110,
   "metadata": {
    "scrolled": true
   },
   "outputs": [
    {
     "name": "stdout",
     "output_type": "stream",
     "text": [
      "Object `generator` not found.\n"
     ]
    }
   ],
   "source": [
    "generator?"
   ]
  },
  {
   "cell_type": "code",
   "execution_count": 42,
   "metadata": {},
   "outputs": [],
   "source": [
    "# BATCH_SIZE = 32\n",
    "# SHUFFLE_BUFFER_SIZE = 0 #1000\n",
    "# not so the values are aligned\n",
    "train_start_batches = train_start.batch(BATCH_SIZE)\n",
    "test_start_batches = test_start.batch(BATCH_SIZE)\n",
    "train_end_batches = train_end.batch(BATCH_SIZE)\n",
    "test_end_batches = test_end.batch(BATCH_SIZE)\n",
    "\n",
    "train_start_all = train_start_all.batch(BATCH_SIZE)\n",
    "\n",
    "train_start_label_batches = train_start_label.batch(BATCH_SIZE)\n",
    "test_start_label_batches = test_start_label.batch(BATCH_SIZE)\n",
    "train_end_label_batches = train_end_label.batch(BATCH_SIZE)\n",
    "test_end_label_batches = test_end_label.batch(BATCH_SIZE)\n",
    "\n",
    "# for x, y in train_start_batches.take(1):\n",
    "#     print(x.shape)\n",
    "#     print(y.shape) \n",
    "# # print(train_start_batches.take(1))"
   ]
  },
  {
   "cell_type": "code",
   "execution_count": 49,
   "metadata": {},
   "outputs": [],
   "source": [
    "train_clip_start = tf.keras.Input(shape=(170, 170, 3), name='start')  # Variable-length sequence of ints\n",
    "train_clip_end = tf.keras.Input(shape=(170, 170, 3), name='end')  # Variable-length sequence of ints\n",
    "\n",
    "# Embed each word in the title into a 64-dimensional vector\n",
    "start_features = tf.keras.layers.Conv2D(96, (11,11), strides=3 , activation='relu', input_shape=(170, 170, 3))(train_clip_start)\n",
    "start_features = MyLRNLayer()(start_features)  \n",
    "start_features = tf.keras.layers.MaxPooling2D(2, 2)(start_features) \n",
    "start_features = tf.keras.layers.Conv2D(256, (5,5), strides=1, activation='relu')(start_features) \n",
    "start_features = MyLRNLayer()(start_features) \n",
    "start_features = tf.keras.layers.Conv2D(384, (3,3), strides=1, activation='relu')(start_features)\n",
    "start_features = tf.keras.layers.MaxPooling2D(2,2)(start_features)\n",
    "start_features = tf.keras.layers.Conv2D(384, (3,3), strides=1, activation='relu')(start_features)\n",
    "start_features = tf.keras.layers.Conv2D(256, (3,3), strides=1, activation='relu')(start_features)\n",
    "start_features = tf.keras.layers.MaxPooling2D(2,2)(start_features)  \n",
    "\n",
    "\n",
    "# Embed each word in the title into a 64-dimensional vector\n",
    "end_features = tf.keras.layers.Conv2D(96, (11,11), strides=3 , activation='relu', input_shape=(170, 170, 3))(train_clip_end)\n",
    "end_features = MyLRNLayer()(end_features)  \n",
    "end_features = tf.keras.layers.MaxPooling2D(2, 2)(end_features) \n",
    "end_features = tf.keras.layers.Conv2D(256, (5,5), strides=1, activation='relu')(end_features) \n",
    "end_features = MyLRNLayer()(end_features) \n",
    "end_features = tf.keras.layers.Conv2D(384, (3,3), strides=1, activation='relu')(end_features)\n",
    "end_features = tf.keras.layers.MaxPooling2D(2,2)(end_features)\n",
    "end_features = tf.keras.layers.Conv2D(384, (3,3), strides=1, activation='relu')(end_features)\n",
    "end_features = tf.keras.layers.Conv2D(256, (3,3), strides=1, activation='relu')(end_features)\n",
    "end_features = tf.keras.layers.MaxPooling2D(2,2)(end_features)  \n",
    "\n",
    "# Merge all available features into a single large vector via concatenation\n",
    "x = tf.keras.layers.concatenate([start_features, end_features])\n",
    "x =  tf.keras.layers.Flatten()(x)\n",
    "x =  tf.keras.layers.Dense(4096, activation='relu')(x)\n",
    "x =  tf.keras.layers.Dense(4096, activation='relu')(x)\n",
    "label =  tf.keras.layers.Dense(101, activation='softmax')(x)\n",
    "\n",
    "# Instantiate an end-to-end model predicting both priority and department\n",
    "late_fusion_model_LRN = tf.keras.Model(inputs=[train_clip_start, train_clip_end],\n",
    "                    outputs=label)\n"
   ]
  },
  {
   "cell_type": "code",
   "execution_count": 87,
   "metadata": {},
   "outputs": [
    {
     "name": "stdout",
     "output_type": "stream",
     "text": [
      "Model: \"model_8\"\n",
      "__________________________________________________________________________________________________\n",
      "Layer (type)                    Output Shape         Param #     Connected to                     \n",
      "==================================================================================================\n",
      "start (InputLayer)              [(None, 170, 170, 3) 0                                            \n",
      "__________________________________________________________________________________________________\n",
      "end (InputLayer)                [(None, 170, 170, 3) 0                                            \n",
      "__________________________________________________________________________________________________\n",
      "conv2d_91 (Conv2D)              (None, 54, 54, 96)   34944       start[0][0]                      \n",
      "__________________________________________________________________________________________________\n",
      "conv2d_96 (Conv2D)              (None, 54, 54, 96)   34944       end[0][0]                        \n",
      "__________________________________________________________________________________________________\n",
      "my_lrn_layer_37 (MyLRNLayer)    (None, 54, 54, 96)   1           conv2d_91[0][0]                  \n",
      "__________________________________________________________________________________________________\n",
      "my_lrn_layer_39 (MyLRNLayer)    (None, 54, 54, 96)   1           conv2d_96[0][0]                  \n",
      "__________________________________________________________________________________________________\n",
      "max_pooling2d_54 (MaxPooling2D) (None, 27, 27, 96)   0           my_lrn_layer_37[0][0]            \n",
      "__________________________________________________________________________________________________\n",
      "max_pooling2d_57 (MaxPooling2D) (None, 27, 27, 96)   0           my_lrn_layer_39[0][0]            \n",
      "__________________________________________________________________________________________________\n",
      "conv2d_92 (Conv2D)              (None, 23, 23, 256)  614656      max_pooling2d_54[0][0]           \n",
      "__________________________________________________________________________________________________\n",
      "conv2d_97 (Conv2D)              (None, 23, 23, 256)  614656      max_pooling2d_57[0][0]           \n",
      "__________________________________________________________________________________________________\n",
      "my_lrn_layer_38 (MyLRNLayer)    (None, 23, 23, 256)  1           conv2d_92[0][0]                  \n",
      "__________________________________________________________________________________________________\n",
      "my_lrn_layer_40 (MyLRNLayer)    (None, 23, 23, 256)  1           conv2d_97[0][0]                  \n",
      "__________________________________________________________________________________________________\n",
      "conv2d_93 (Conv2D)              (None, 21, 21, 384)  885120      my_lrn_layer_38[0][0]            \n",
      "__________________________________________________________________________________________________\n",
      "conv2d_98 (Conv2D)              (None, 21, 21, 384)  885120      my_lrn_layer_40[0][0]            \n",
      "__________________________________________________________________________________________________\n",
      "max_pooling2d_55 (MaxPooling2D) (None, 10, 10, 384)  0           conv2d_93[0][0]                  \n",
      "__________________________________________________________________________________________________\n",
      "max_pooling2d_58 (MaxPooling2D) (None, 10, 10, 384)  0           conv2d_98[0][0]                  \n",
      "__________________________________________________________________________________________________\n",
      "conv2d_94 (Conv2D)              (None, 8, 8, 384)    1327488     max_pooling2d_55[0][0]           \n",
      "__________________________________________________________________________________________________\n",
      "conv2d_99 (Conv2D)              (None, 8, 8, 384)    1327488     max_pooling2d_58[0][0]           \n",
      "__________________________________________________________________________________________________\n",
      "conv2d_95 (Conv2D)              (None, 6, 6, 256)    884992      conv2d_94[0][0]                  \n",
      "__________________________________________________________________________________________________\n",
      "conv2d_100 (Conv2D)             (None, 6, 6, 256)    884992      conv2d_99[0][0]                  \n",
      "__________________________________________________________________________________________________\n",
      "max_pooling2d_56 (MaxPooling2D) (None, 3, 3, 256)    0           conv2d_95[0][0]                  \n",
      "__________________________________________________________________________________________________\n",
      "max_pooling2d_59 (MaxPooling2D) (None, 3, 3, 256)    0           conv2d_100[0][0]                 \n",
      "__________________________________________________________________________________________________\n",
      "concatenate_9 (Concatenate)     (None, 3, 3, 512)    0           max_pooling2d_56[0][0]           \n",
      "                                                                 max_pooling2d_59[0][0]           \n",
      "__________________________________________________________________________________________________\n",
      "flatten_9 (Flatten)             (None, 4608)         0           concatenate_9[0][0]              \n",
      "__________________________________________________________________________________________________\n",
      "dense_18 (Dense)                (None, 4096)         18878464    flatten_9[0][0]                  \n",
      "__________________________________________________________________________________________________\n",
      "dense_19 (Dense)                (None, 4096)         16781312    dense_18[0][0]                   \n",
      "__________________________________________________________________________________________________\n",
      "dense_20 (Dense)                (None, 101)          413797      dense_19[0][0]                   \n",
      "==================================================================================================\n",
      "Total params: 43,567,977\n",
      "Trainable params: 43,567,973\n",
      "Non-trainable params: 4\n",
      "__________________________________________________________________________________________________\n"
     ]
    }
   ],
   "source": [
    "late_fusion_model_LRN.summary()"
   ]
  },
  {
   "cell_type": "code",
   "execution_count": 69,
   "metadata": {},
   "outputs": [
    {
     "data": {
      "image/png": "[encoded data removed]",
      "text/plain": [
       "<IPython.core.display.Image object>"
      ]
     },
     "execution_count": 69,
     "metadata": {},
     "output_type": "execute_result"
    }
   ],
   "source": [
    "tf.keras.utils.plot_model(late_fusion_model_LRN, 'late_fusion_model_LRN.png', show_shapes=True)"
   ]
  },
  {
   "cell_type": "code",
   "execution_count": 48,
   "metadata": {},
   "outputs": [
    {
     "ename": "NameError",
     "evalue": "name 'late_fusion_model_LRN' is not defined",
     "traceback": [
      "\u001b[0;31m---------------------------------------------------------------------------\u001b[0m",
      "\u001b[0;31mNameError\u001b[0m                                 Traceback (most recent call last)",
      "\u001b[0;32m<ipython-input-48-e3d87b4f4b91>\u001b[0m in \u001b[0;36m<module>\u001b[0;34m\u001b[0m\n\u001b[0;32m----> 1\u001b[0;31m \u001b[0mlate_fusion_model_LRN\u001b[0m\u001b[0;34m.\u001b[0m\u001b[0mcompile\u001b[0m\u001b[0;34m(\u001b[0m\u001b[0moptimizer\u001b[0m\u001b[0;34m=\u001b[0m\u001b[0;34m'adam'\u001b[0m\u001b[0;34m,\u001b[0m \u001b[0mloss\u001b[0m\u001b[0;34m=\u001b[0m\u001b[0;34m'sparse_categorical_crossentropy'\u001b[0m\u001b[0;34m,\u001b[0m \u001b[0mmetrics\u001b[0m\u001b[0;34m=\u001b[0m\u001b[0;34m[\u001b[0m\u001b[0;34m'accuracy'\u001b[0m\u001b[0;34m]\u001b[0m\u001b[0;34m)\u001b[0m\u001b[0;34m\u001b[0m\u001b[0;34m\u001b[0m\u001b[0m\n\u001b[0m\u001b[1;32m      2\u001b[0m \u001b[0;34m\u001b[0m\u001b[0m\n\u001b[1;32m      3\u001b[0m \u001b[0;31m# late_fusion_model_LRN.compile(optimizer='adam',\u001b[0m\u001b[0;34m\u001b[0m\u001b[0;34m\u001b[0m\u001b[0;34m\u001b[0m\u001b[0m\n\u001b[1;32m      4\u001b[0m \u001b[0;31m#               loss=['parse_categorical_crossentropy', 'parse_categorical_crossentropy'])\u001b[0m\u001b[0;34m\u001b[0m\u001b[0;34m\u001b[0m\u001b[0;34m\u001b[0m\u001b[0m\n",
      "\u001b[0;31mNameError\u001b[0m: name 'late_fusion_model_LRN' is not defined"
     ],
     "output_type": "error"
    }
   ],
   "source": [
    "late_fusion_model_LRN.compile(optimizer='adam', loss='sparse_categorical_crossentropy', metrics=['accuracy'])\n",
    "\n",
    "# late_fusion_model_LRN.compile(optimizer='adam',\n",
    "#               loss=['parse_categorical_crossentropy', 'parse_categorical_crossentropy'])"
   ]
  },
  {
   "cell_type": "code",
   "execution_count": 51,
   "metadata": {},
   "outputs": [],
   "source": [
    "d = tf.data.Dataset.zip(({'start': train_start, 'end': train_end},train_start_label))\n",
    "d_batch = d.batch(BATCH_SIZE)\n",
    "\n",
    "d_test = tf.data.Dataset.zip(({'start': test_start, 'end': test_end},test_start_label))\n",
    "d_batch_test = d_test.batch(BATCH_SIZE)\n",
    "# dall = tf.data.Dataset.zip((d, train_start_label))\n",
    "# dl = tf.data.Dataset.zip({'label': train_start_label})\n",
    "# dl_batch = d.batch(BATCH_SIZE)"
   ]
  },
  {
   "cell_type": "code",
   "execution_count": 100,
   "metadata": {
    "scrolled": true
   },
   "outputs": [
    {
     "name": "stdout",
     "output_type": "stream",
     "text": [
      "299/299 [==============================] - 4397s 15s/step - loss: 0.0155 - acc: 0.9966\n"
     ]
    },
    {
     "data": {
      "text/plain": [
       "<tensorflow.python.keras.callbacks.History at 0x1a9f617390>"
      ]
     },
     "execution_count": 100,
     "metadata": {},
     "output_type": "execute_result"
    }
   ],
   "source": [
    "late_fusion_model_LRN.fit(d_batch,\n",
    "      epochs=1, verbose=1)"
   ]
  },
  {
   "cell_type": "markdown",
   "metadata": {},
   "source": [
    "## Late Fusion with Batch normalization"
   ]
  },
  {
   "cell_type": "markdown",
   "metadata": {},
   "source": [
    "Implementing a late fusion modele with batch normilization"
   ]
  },
  {
   "cell_type": "code",
   "execution_count": 44,
   "metadata": {},
   "outputs": [],
   "source": [
    "train_clip_start = tf.keras.Input(shape=(170, 170, 3), name='start')  # Variable-length sequence of ints\n",
    "train_clip_end = tf.keras.Input(shape=(170, 170, 3), name='end')  # Variable-length sequence of ints\n",
    "\n",
    "# Embed each word in the title into a 64-dimensional vector\n",
    "start_features = tf.keras.layers.Conv2D(96, (11,11), strides=3 , activation='relu', input_shape=(170, 170, 3))(train_clip_start)\n",
    "start_features = tf.keras.layers.BatchNormalization()(start_features)  \n",
    "start_features = tf.keras.layers.MaxPooling2D(2, 2)(start_features) \n",
    "start_features = tf.keras.layers.Conv2D(256, (5,5), strides=1, activation='relu')(start_features) \n",
    "start_features = tf.keras.layers.BatchNormalization()(start_features) \n",
    "start_features = tf.keras.layers.Conv2D(384, (3,3), strides=1, activation='relu')(start_features)\n",
    "start_features = tf.keras.layers.MaxPooling2D(2,2)(start_features)\n",
    "start_features = tf.keras.layers.Conv2D(384, (3,3), strides=1, activation='relu')(start_features)\n",
    "start_features = tf.keras.layers.Conv2D(256, (3,3), strides=1, activation='relu')(start_features)\n",
    "start_features = tf.keras.layers.MaxPooling2D(2,2)(start_features)  \n",
    "\n",
    "\n",
    "# Embed each word in the title into a 64-dimensional vector\n",
    "end_features = tf.keras.layers.Conv2D(96, (11,11), strides=3 , activation='relu', input_shape=(170, 170, 3))(train_clip_end)\n",
    "end_features = tf.keras.layers.BatchNormalization()(end_features)  \n",
    "end_features = tf.keras.layers.MaxPooling2D(2, 2)(end_features) \n",
    "end_features = tf.keras.layers.Conv2D(256, (5,5), strides=1, activation='relu')(end_features) \n",
    "end_features = tf.keras.layers.BatchNormalization()(end_features) \n",
    "end_features = tf.keras.layers.Conv2D(384, (3,3), strides=1, activation='relu')(end_features)\n",
    "end_features = tf.keras.layers.MaxPooling2D(2,2)(end_features)\n",
    "end_features = tf.keras.layers.Conv2D(384, (3,3), strides=1, activation='relu')(end_features)\n",
    "end_features = tf.keras.layers.Conv2D(256, (3,3), strides=1, activation='relu')(end_features)\n",
    "end_features = tf.keras.layers.MaxPooling2D(2,2)(end_features)  \n",
    "\n",
    "# Merge all available features into a single large vector via concatenation\n",
    "x = tf.keras.layers.concatenate([start_features, end_features])\n",
    "x =  tf.keras.layers.Flatten()(x)\n",
    "x =  tf.keras.layers.Dense(4096, activation='relu')(x)\n",
    "x =  tf.keras.layers.Dense(4096, activation='relu')(x)\n",
    "label =  tf.keras.layers.Dense(101, activation='softmax')(x)\n",
    "\n",
    "# Instantiate an end-to-end model predicting both priority and department\n",
    "late_fusion_model_bn = tf.keras.Model(inputs=[train_clip_start, train_clip_end],\n",
    "                    outputs=label)"
   ]
  },
  {
   "cell_type": "code",
   "execution_count": 45,
   "metadata": {},
   "outputs": [
    {
     "name": "stdout",
     "output_type": "stream",
     "text": [
      "Model: \"model_2\"\n",
      "__________________________________________________________________________________________________\n",
      "Layer (type)                    Output Shape         Param #     Connected to                     \n",
      "==================================================================================================\n",
      "start (InputLayer)              [(None, 170, 170, 3) 0                                            \n",
      "__________________________________________________________________________________________________\n",
      "end (InputLayer)                [(None, 170, 170, 3) 0                                            \n",
      "__________________________________________________________________________________________________\n",
      "conv2d_40 (Conv2D)              (None, 54, 54, 96)   34944       start[0][0]                      \n",
      "__________________________________________________________________________________________________\n",
      "conv2d_45 (Conv2D)              (None, 54, 54, 96)   34944       end[0][0]                        \n",
      "__________________________________________________________________________________________________\n",
      "batch_normalization_30 (BatchNo (None, 54, 54, 96)   384         conv2d_40[0][0]                  \n",
      "__________________________________________________________________________________________________\n",
      "batch_normalization_32 (BatchNo (None, 54, 54, 96)   384         conv2d_45[0][0]                  \n",
      "__________________________________________________________________________________________________\n",
      "max_pooling2d_40 (MaxPooling2D) (None, 27, 27, 96)   0           batch_normalization_30[0][0]     \n",
      "__________________________________________________________________________________________________\n",
      "max_pooling2d_43 (MaxPooling2D) (None, 27, 27, 96)   0           batch_normalization_32[0][0]     \n",
      "__________________________________________________________________________________________________\n",
      "conv2d_41 (Conv2D)              (None, 23, 23, 256)  614656      max_pooling2d_40[0][0]           \n",
      "__________________________________________________________________________________________________\n",
      "conv2d_46 (Conv2D)              (None, 23, 23, 256)  614656      max_pooling2d_43[0][0]           \n",
      "__________________________________________________________________________________________________\n",
      "batch_normalization_31 (BatchNo (None, 23, 23, 256)  1024        conv2d_41[0][0]                  \n",
      "__________________________________________________________________________________________________\n",
      "batch_normalization_33 (BatchNo (None, 23, 23, 256)  1024        conv2d_46[0][0]                  \n",
      "__________________________________________________________________________________________________\n",
      "conv2d_42 (Conv2D)              (None, 21, 21, 384)  885120      batch_normalization_31[0][0]     \n",
      "__________________________________________________________________________________________________\n",
      "conv2d_47 (Conv2D)              (None, 21, 21, 384)  885120      batch_normalization_33[0][0]     \n",
      "__________________________________________________________________________________________________\n",
      "max_pooling2d_41 (MaxPooling2D) (None, 10, 10, 384)  0           conv2d_42[0][0]                  \n",
      "__________________________________________________________________________________________________\n",
      "max_pooling2d_44 (MaxPooling2D) (None, 10, 10, 384)  0           conv2d_47[0][0]                  \n",
      "__________________________________________________________________________________________________\n",
      "conv2d_43 (Conv2D)              (None, 8, 8, 384)    1327488     max_pooling2d_41[0][0]           \n",
      "__________________________________________________________________________________________________\n",
      "conv2d_48 (Conv2D)              (None, 8, 8, 384)    1327488     max_pooling2d_44[0][0]           \n",
      "__________________________________________________________________________________________________\n",
      "conv2d_44 (Conv2D)              (None, 6, 6, 256)    884992      conv2d_43[0][0]                  \n",
      "__________________________________________________________________________________________________\n",
      "conv2d_49 (Conv2D)              (None, 6, 6, 256)    884992      conv2d_48[0][0]                  \n",
      "__________________________________________________________________________________________________\n",
      "max_pooling2d_42 (MaxPooling2D) (None, 3, 3, 256)    0           conv2d_44[0][0]                  \n",
      "__________________________________________________________________________________________________\n",
      "max_pooling2d_45 (MaxPooling2D) (None, 3, 3, 256)    0           conv2d_49[0][0]                  \n",
      "__________________________________________________________________________________________________\n",
      "concatenate_13 (Concatenate)    (None, 3, 3, 512)    0           max_pooling2d_42[0][0]           \n",
      "                                                                 max_pooling2d_45[0][0]           \n",
      "__________________________________________________________________________________________________\n",
      "flatten_7 (Flatten)             (None, 4608)         0           concatenate_13[0][0]             \n",
      "__________________________________________________________________________________________________\n",
      "dense_21 (Dense)                (None, 4096)         18878464    flatten_7[0][0]                  \n",
      "__________________________________________________________________________________________________\n",
      "dense_22 (Dense)                (None, 4096)         16781312    dense_21[0][0]                   \n",
      "__________________________________________________________________________________________________\n",
      "dense_23 (Dense)                (None, 101)          413797      dense_22[0][0]                   \n",
      "==================================================================================================\n",
      "Total params: 43,570,789\n",
      "Trainable params: 43,569,381\n",
      "Non-trainable params: 1,408\n",
      "__________________________________________________________________________________________________\n"
     ]
    }
   ],
   "source": [
    "late_fusion_model_bn.summary()"
   ]
  },
  {
   "cell_type": "code",
   "execution_count": 52,
   "metadata": {},
   "outputs": [
    {
     "name": "stdout",
     "output_type": "stream",
     "text": [
      "299/299 [==============================] - 4131s 14s/step - loss: 0.0169 - acc: 0.9966\n"
     ]
    },
    {
     "data": {
      "text/plain": [
       "<tensorflow.python.keras.callbacks.History at 0x1a4eaade48>"
      ]
     },
     "execution_count": 52,
     "metadata": {},
     "output_type": "execute_result"
    }
   ],
   "source": [
    "late_fusion_model_bn.compile(optimizer='adam', loss='sparse_categorical_crossentropy', metrics=['accuracy'])\n",
    "late_fusion_model_bn.fit(d_batch,\n",
    "      epochs=1, verbose=1)"
   ]
  },
  {
   "cell_type": "code",
   "execution_count": 54,
   "metadata": {},
   "outputs": [
    {
     "name": "stdout",
     "output_type": "stream",
     "text": [
      "\n",
      "# Evaluate on test data\n",
      "    119/Unknown - 1404s 12s/step - loss: 1.0014e-05 - acc: 1.0000test loss, test acc: [1.0013530300057027e-05, 1.0]\n"
     ]
    }
   ],
   "source": [
    "print('\\n# Evaluate on test data')\n",
    "results = late_fusion_model_bn.evaluate(d_batch_test)\n",
    "print('test loss, test acc:', results)"
   ]
  },
  {
   "cell_type": "markdown",
   "metadata": {},
   "source": [
    "# Slow Fusion"
   ]
  },
  {
   "cell_type": "markdown",
   "metadata": {},
   "source": [
    "For slow fusion we begin by seperating out the data into various into interlocking sets of 4 that span 10 frames"
   ]
  },
  {
   "cell_type": "code",
   "execution_count": 35,
   "metadata": {},
   "outputs": [
    {
     "name": "stdout",
     "output_type": "stream",
     "text": [
      "1 (32, 4, 170, 170, 3)\n",
      "2 (32, 4, 170, 170, 3)\n",
      "3 (32, 4, 170, 170, 3)\n",
      "4 (32, 4, 170, 170, 3)\n"
     ]
    }
   ],
   "source": [
    "train_multi_frame_1 = ucf101_train.map(format_videos)\n",
    "train_multi_frame_1 = train_multi_frame_1.map(lambda x: select_frame_from_i_to_T(x,0,4))\n",
    "train_multi_frame_1 = train_multi_frame_1.map(convert_to_tuple)\n",
    "\n",
    "train_multi_frame_2 = ucf101_train.map(format_videos)\n",
    "train_multi_frame_2 = train_multi_frame_2.map(lambda x:select_frame_from_i_to_T(x,2,6))\n",
    "train_multi_frame_2 = train_multi_frame_2.map(convert_to_tuple)\n",
    "\n",
    "train_multi_frame_3 = ucf101_train.map(format_videos)\n",
    "train_multi_frame_3 = train_multi_frame_3.map(lambda x:select_frame_from_i_to_T(x,4,8))\n",
    "train_multi_frame_3 = train_multi_frame_3.map(convert_to_tuple)\n",
    "\n",
    "train_multi_frame_4 = ucf101_train.map(format_videos)\n",
    "train_multi_frame_4 = train_multi_frame_4.map(lambda x:select_frame_from_i_to_T(x,6,10))\n",
    "train_multi_frame_4 = train_multi_frame_4.map(convert_to_tuple)\n",
    "\n",
    "# train_multi_frame_T_batches = train_multi_frame_T.shuffle(SHUFFLE_BUFFER_SIZE).batch(BATCH_SIZE)\n",
    "train_multi_frame_1_batches = train_multi_frame_1.batch(BATCH_SIZE)\n",
    "train_multi_frame_2_batches = train_multi_frame_2.batch(BATCH_SIZE)\n",
    "train_multi_frame_3_batches = train_multi_frame_3.batch(BATCH_SIZE)\n",
    "train_multi_frame_4_batches = train_multi_frame_4.batch(BATCH_SIZE)\n",
    "# test_multi_frame_1_batches = test_multi_frame_1.batch(BATCH_SIZE)\n",
    "\n",
    "for image_batch_1, label_batch in train_multi_frame_1_batches.take(1):\n",
    "    pass\n",
    "for image_batch_2, label_batch in train_multi_frame_2_batches.take(1):\n",
    "    pass\n",
    "for image_batch_3, label_batch in train_multi_frame_3_batches.take(1):\n",
    "    pass\n",
    "for image_batch_4, label_batch in train_multi_frame_4_batches.take(1):\n",
    "    pass\n",
    "\n",
    "print('1', image_batch_1.shape)\n",
    "print('2', image_batch_2.shape)\n",
    "print('3', image_batch_3.shape)\n",
    "print('4', image_batch_4.shape)"
   ]
  },
  {
   "cell_type": "code",
   "execution_count": null,
   "metadata": {},
   "outputs": [],
   "source": [
    "# inputs_1 = tf.keras.Input(shape=(32,))  # Returns a placeholder tensor\n",
    "# inputs_T = tf.keras.Input(shape=(32,))  # Returns a placeholder tensor\n",
    "\n",
    "# # A layer instance is callable on a tensor, and returns a tensor.\n",
    "# x = layers.Dense(64, activation='relu')(inputs)\n",
    "# x = layers.Dense(64, activation='relu')(x)\n",
    "# predictions = layers.Dense(10, activation='softmax')(x)\n",
    "\n",
    "# model = tf.keras.Model(inputs=inputs, outputs=predictions)\n",
    "\n",
    "# # The compile step specifies the training configuration.\n",
    "# model.compile(optimizer=tf.train.RMSPropOptimizer(0.001),\n",
    "#               loss='categorical_crossentropy',\n",
    "#               metrics=['accuracy'])\n",
    "\n",
    "# # Trains for 5 epochs\n",
    "# model.fit(data, labels, batch_size=32, epochs=5)"
   ]
  },
  {
   "cell_type": "code",
   "execution_count": 36,
   "metadata": {},
   "outputs": [],
   "source": [
    "train_clip_1 = tf.keras.Input(shape=(4,170, 170, 3), name='clip_1')  # Variable-length sequence of ints\n",
    "train_clip_2 = tf.keras.Input(shape=(4,170, 170, 3), name='clip_2')  # Variable-length sequence of ints\n",
    "train_clip_3 = tf.keras.Input(shape=(4,170, 170, 3), name='clip_3')  # Variable-length sequence of ints\n",
    "train_clip_4 = tf.keras.Input(shape=(4,170, 170, 3), name='clip_4')  # Variable-length sequence of ints\n",
    " \n",
    "    \n",
    "train_clip_1_features = tf.keras.layers.Conv3D(96, (4,11,11), strides=2 , activation='relu', input_shape=(4,170, 170, 3))(train_clip_1)\n",
    "train_clip_1_features = tf.keras.layers.Reshape((54, 54,96))(train_clip_1_features)  \n",
    "train_clip_1_features = tf.keras.layers.BatchNormalization()(train_clip_1_features) \n",
    "train_clip_1_features = tf.keras.layers.MaxPooling2D(2, 2)(train_clip_1_features) \n",
    "\n",
    "train_clip_2_features = tf.keras.layers.Conv3D(96, (4,11,11), strides=2 , activation='relu', input_shape=(4,170, 170, 3))(train_clip_2)\n",
    "train_clip_2_features = tf.keras.layers.Reshape((54, 54,96))(train_clip_2_features)  \n",
    "train_clip_2_features = tf.keras.layers.BatchNormalization()(train_clip_2_features) \n",
    "train_clip_2_features = tf.keras.layers.MaxPooling2D(2, 2)(train_clip_2_features)\n",
    "\n",
    "train_clip_3_features = tf.keras.layers.Conv3D(96, (4,11,11), strides=2 , activation='relu', input_shape=(4,170, 170, 3))(train_clip_3)\n",
    "train_clip_3_features = tf.keras.layers.Reshape((54, 54,96))(train_clip_3_features)  \n",
    "train_clip_3_features = tf.keras.layers.BatchNormalization()(train_clip_3_features) \n",
    "train_clip_3_features = tf.keras.layers.MaxPooling2D(2, 2)(train_clip_3_features)\n",
    "\n",
    "train_clip_4_features = tf.keras.layers.Conv3D(96, (4,11,11), strides=2 , activation='relu', input_shape=(4,170, 170, 3))(train_clip_4)\n",
    "train_clip_4_features = tf.keras.layers.Reshape((54, 54,96))(train_clip_4_features)  \n",
    "train_clip_4_features = tf.keras.layers.BatchNormalization()(train_clip_4_features) \n",
    "train_clip_3_features = tf.keras.layers.MaxPooling2D(2, 2)(train_clip_4_features)\n",
    "\n",
    "# train_clip_1_features = tf.keras.layers.Conv2D(256, (5,5), strides=1, activation='relu')\n",
    "\n",
    "first_half = tf.keras.layers.concatenate([train_clip_1_features, train_clip_2_features])\n",
    "second_half = tf.keras.layers.concatenate([train_clip_3_features, train_clip_3_features])\n",
    "\n",
    "\n",
    "first_half = tf.keras.layers.Conv2D(256, (5,5), strides=1, activation='relu')(first_half) \n",
    "first_half = tf.keras.layers.BatchNormalization()(first_half)  \n",
    "first_half = tf.keras.layers.MaxPooling2D(2, 2)(first_half)\n",
    "\n",
    "second_half = tf.keras.layers.Conv2D(256, (5,5), strides=1, activation='relu')(second_half) \n",
    "second_half = tf.keras.layers.BatchNormalization()(second_half)  \n",
    "second_half = tf.keras.layers.MaxPooling2D(2, 2)(second_half) \n",
    "\n",
    "combined =  tf.keras.layers.concatenate([first_half, second_half])\n",
    "\n",
    "combined = tf.keras.layers.Conv2D(384, (3,3), strides=1, activation='relu')(combined) \n",
    "combined = tf.keras.layers.Conv2D(384, (3,3), strides=1, activation='relu')(combined) \n",
    "combined = tf.keras.layers.Conv2D(256, (3,3), strides=1, activation='relu')(combined) \n",
    "combined = tf.keras.layers.MaxPooling2D(2,2)(combined)   \n",
    "combined = tf.keras.layers.Flatten()(combined) \n",
    "combined = tf.keras.layers.Dense(4096, activation='relu')(combined) \n",
    "combined =  tf.keras.layers.Dense(4096, activation='relu')(combined) \n",
    "label =  tf.keras.layers.Dense(101, activation='softmax')(combined)"
   ]
  },
  {
   "cell_type": "code",
   "execution_count": 37,
   "metadata": {},
   "outputs": [],
   "source": [
    "slow_fusion_model_bn = tf.keras.Model(inputs=[train_clip_1,train_clip_2,train_clip_3, train_clip_4],\n",
    "                    outputs=label)"
   ]
  },
  {
   "cell_type": "code",
   "execution_count": 220,
   "metadata": {},
   "outputs": [],
   "source": []
  },
  {
   "cell_type": "code",
   "execution_count": 224,
   "metadata": {},
   "outputs": [
    {
     "ename": "TypeError",
     "evalue": "'MapDataset' object is not subscriptable",
     "traceback": [
      "\u001b[0;31m---------------------------------------------------------------------------\u001b[0m",
      "\u001b[0;31mTypeError\u001b[0m                                 Traceback (most recent call last)",
      "\u001b[0;32m<ipython-input-224-14af19e401d9>\u001b[0m in \u001b[0;36m<module>\u001b[0;34m\u001b[0m\n\u001b[0;32m----> 1\u001b[0;31m \u001b[0mtrain_dataset\u001b[0m\u001b[0;34m[\u001b[0m\u001b[0;34m\"label\"\u001b[0m\u001b[0;34m]\u001b[0m\u001b[0;34m\u001b[0m\u001b[0;34m\u001b[0m\u001b[0m\n\u001b[0m",
      "\u001b[0;31mTypeError\u001b[0m: 'MapDataset' object is not subscriptable"
     ],
     "output_type": "error"
    }
   ],
   "source": []
  },
  {
   "cell_type": "code",
   "execution_count": 73,
   "metadata": {},
   "outputs": [],
   "source": [
    "ucf101_train.map?"
   ]
  },
  {
   "cell_type": "code",
   "execution_count": 102,
   "metadata": {},
   "outputs": [],
   "source": [
    "tf.keras.layers.Conv3D?"
   ]
  },
  {
   "cell_type": "code",
   "execution_count": 109,
   "metadata": {},
   "outputs": [],
   "source": [
    "tfds.as_numpy?"
   ]
  },
  {
   "cell_type": "code",
   "execution_count": 104,
   "metadata": {},
   "outputs": [],
   "source": [
    "# tx = tf.zeros([1,2, 2, 3])\n",
    "# print(tx)\n",
    "# txr = tf.reshape(tx, [2, 2, 3])\n",
    "# print(txr)"
   ]
  },
  {
   "cell_type": "code",
   "execution_count": null,
   "metadata": {},
   "outputs": [],
   "source": []
  }
 ],
 "metadata": {
  "kernelspec": {
   "display_name": "Python 3",
   "language": "python",
   "name": "python3"
  },
  "language_info": {
   "codemirror_mode": {
    "name": "ipython",
    "version": 3
   },
   "file_extension": ".py",
   "mimetype": "text/x-python",
   "name": "python",
   "nbconvert_exporter": "python",
   "pygments_lexer": "ipython3",
   "version": "3.7.3"
  }
 },
 "nbformat": 4,
 "nbformat_minor": 2
}
