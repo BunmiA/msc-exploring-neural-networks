{
 "cells": [
  {
   "cell_type": "markdown",
   "metadata": {},
   "source": [
    "# KARPHY'S CNN \n",
    "The notebook is used to experiment with video classification using karphy's CNN as discussed in https://static.googleusercontent.com/media/research.google.com/en//pubs/archive/42455.pdf"
   ]
  },
  {
   "cell_type": "code",
   "execution_count": 73,
   "metadata": {},
   "outputs": [],
   "source": [
    "import tensorflow as tf\n",
    "# import keras\n",
    "tf.enable_eager_execution()\n",
    "import tensorflow_datasets as tfds\n",
    "import os\n",
    "import zipfile\n",
    "# from tensorflow.keras.utils.vis_utils import plot_model\n",
    "import matplotlib.pyplot as plt\n",
    "import matplotlib.image as mpimg\n",
    "import numpy as np\n",
    "import pydot"
   ]
  },
  {
   "cell_type": "markdown",
   "metadata": {},
   "source": [
    "## Reading in data\n",
    "The \"ucf101\" dataset from tensorflow will be used. More information on this dataset can be found here URL: https://www.crcv.ucf.edu/data/UCF101.php"
   ]
  },
  {
   "cell_type": "code",
   "execution_count": 6,
   "metadata": {},
   "outputs": [
    {
     "name": "stdout",
     "output_type": "stream",
     "text": [
      "<class 'tensorflow_datasets.core.dataset_info.DatasetInfo'>\n",
      "number of training examples: 9537\n",
      "number of test examples: 3783\n",
      "number of labels: 101\n"
     ]
    }
   ],
   "source": [
    "ucf101_dataset, ucf101_info = tfds.load(name=\"ucf101\", with_info=True)\n",
    "ucf101_train , ucf101_test = ucf101_dataset[\"train\"], ucf101_dataset[\"test\"]\n",
    "print(type(ucf101_info))\n",
    "assert isinstance(ucf101_train, tf.data.Dataset)\n",
    "assert isinstance(ucf101_test, tf.data.Dataset)\n",
    "\n",
    "print('number of training examples:', ucf101_info.splits[\"train\"].num_examples)\n",
    "print('number of test examples:', ucf101_info.splits[\"test\"].num_examples)\n",
    "print('number of labels:', ucf101_info.features[\"label\"].num_classes)"
   ]
  },
  {
   "cell_type": "markdown",
   "metadata": {},
   "source": [
    "### Looking into the dataset\n",
    "The dataset has a pixel size of 256 x 256 x 3 for each video. "
   ]
  },
  {
   "cell_type": "code",
   "execution_count": 12,
   "metadata": {},
   "outputs": [
    {
     "name": "stdout",
     "output_type": "stream",
     "text": [
      "<DatasetV1Adapter shapes: {video: (?, 256, 256, 3), label: ()}, types: {video: tf.uint8, label: tf.int64}>\n"
     ]
    }
   ],
   "source": [
    "print(ucf101_train.take(1))"
   ]
  },
  {
   "cell_type": "markdown",
   "metadata": {},
   "source": [
    "### Formating data\n",
    "* normalizing pixels? why again\n",
    "* The pixels are rescaled to a size of 170 x 170 x 3 as suggested by the paper \n",
    "* The models suggested in the paper can take one frame of 10 frames depending if the model is early fusion of late fusion"
   ]
  },
  {
   "cell_type": "code",
   "execution_count": 8,
   "metadata": {},
   "outputs": [],
   "source": [
    "IMG_SIZE = 170\n",
    "\n",
    "def format_videos(dataset):\n",
    "    dataset[\"video\"] = tf.cast(dataset[\"video\"], tf.float32)\n",
    "    dataset[\"video\"] = (dataset[\"video\"]/255)\n",
    "    dataset[\"video\"] = tf.image.resize(dataset[\"video\"], (IMG_SIZE,IMG_SIZE))\n",
    "    return dataset\n",
    "    "
   ]
  },
  {
   "cell_type": "code",
   "execution_count": 9,
   "metadata": {},
   "outputs": [],
   "source": [
    "def select_first_frame(dataset):\n",
    "    dataset[\"video\"] = dataset[\"video\"][0]\n",
    "    return dataset \n",
    "    "
   ]
  },
  {
   "cell_type": "code",
   "execution_count": 10,
   "metadata": {},
   "outputs": [],
   "source": [
    "def select_frame_from_i_to_T(dataset,i, T):\n",
    "    dataset[\"video\"] = dataset[\"video\"][i:T]\n",
    "    return dataset"
   ]
  },
  {
   "cell_type": "code",
   "execution_count": 11,
   "metadata": {},
   "outputs": [],
   "source": [
    "def select_frame_at_T(dataset, T):\n",
    "    dataset[\"video\"] = dataset[\"video\"][T]\n",
    "    return dataset "
   ]
  },
  {
   "cell_type": "code",
   "execution_count": 12,
   "metadata": {},
   "outputs": [],
   "source": [
    "def convert_to_tuple(dataset):\n",
    "    x = dataset[\"video\"]\n",
    "    y = dataset[\"label\"]\n",
    "    return x,y "
   ]
  },
  {
   "cell_type": "markdown",
   "metadata": {},
   "source": [
    "changing resizing image and "
   ]
  },
  {
   "cell_type": "code",
   "execution_count": 24,
   "metadata": {},
   "outputs": [
    {
     "name": "stdout",
     "output_type": "stream",
     "text": [
      "tf.Tensor(96, shape=(), dtype=int64)\n",
      "(74, 256, 256, 3)\n",
      "(170, 170, 3)\n"
     ]
    }
   ],
   "source": [
    "train = ucf101_train.map(format_videos)\n",
    "train = train.map(select_first_frame)\n",
    "train = train.map(convert_to_tuple)\n",
    "\n",
    "test = ucf101_test.map(format_videos)\n",
    "test = test.map(select_first_frame)\n",
    "test = test.map(convert_to_tuple)\n",
    "\n",
    "\n",
    "for d in ucf101_train.take(1):\n",
    "    print(d[\"label\"])\n",
    "    print(d[\"video\"].shape)  \n",
    "for x, y in train.take(1):\n",
    "    print(x.shape)   "
   ]
  },
  {
   "cell_type": "markdown",
   "metadata": {},
   "source": [
    "Displaying images in video last image"
   ]
  },
  {
   "cell_type": "markdown",
   "metadata": {},
   "source": [
    "loading test dataset"
   ]
  },
  {
   "cell_type": "code",
   "execution_count": 25,
   "metadata": {},
   "outputs": [
    {
     "data": {
      "text/plain": [
       "TensorShape([Dimension(32), Dimension(170), Dimension(170), Dimension(3)])"
      ]
     },
     "execution_count": 25,
     "metadata": {},
     "output_type": "execute_result"
    }
   ],
   "source": [
    "BATCH_SIZE = 32\n",
    "SHUFFLE_BUFFER_SIZE = 2 #1000\n",
    "train_batches = train.shuffle(SHUFFLE_BUFFER_SIZE).batch(BATCH_SIZE)\n",
    "test_batches = test.batch(BATCH_SIZE)\n",
    "\n",
    "for image_batch, label_batch in train_batches.take(1):\n",
    "    pass\n",
    "\n",
    "image_batch.shape"
   ]
  },
  {
   "cell_type": "markdown",
   "metadata": {},
   "source": [
    "##\n",
    "\n",
    "## Single Frame model"
   ]
  },
  {
   "cell_type": "markdown",
   "metadata": {},
   "source": [
    "Creating single frame model from paper"
   ]
  },
  {
   "cell_type": "markdown",
   "metadata": {},
   "source": [
    "Creating custom layer for local response normalization"
   ]
  },
  {
   "cell_type": "code",
   "execution_count": 194,
   "metadata": {},
   "outputs": [],
   "source": [
    "class MyLRNLayer(tf.keras.layers.Layer):\n",
    "    def __init__(self, depth_radius=5,bias=1,alpha=1,beta=0.5, **kwargs):\n",
    "#         self.output_dim = output_dim\n",
    "        self.depth_radius = depth_radius\n",
    "        self.bias = bias\n",
    "        self.alpha = alpha\n",
    "        self.beta = beta\n",
    "        super(MyLRNLayer, self).__init__(**kwargs)\n",
    "\n",
    "    def build(self, input_shape):\n",
    "        # Create a trainable weight variable for this layer.\n",
    "        self.kernel = self.add_weight(name='kernel', \n",
    "                                      shape=(None),\n",
    "                                      initializer='uniform',\n",
    "                                      trainable=False)\n",
    "        super(MyLRNLayer, self).build(input_shape)  # Be sure to call this at the end\n",
    "\n",
    "    def call(self, x):\n",
    "#         xshape = x.shape\n",
    "#         print(xshape)\n",
    "#         if len(x.shape) == 5:\n",
    "#             x = tf.reshape(x, [xshape[1], xshape[2], xshape[3], xshape[4]])    \n",
    "        return tf.nn.local_response_normalization(x,self.depth_radius,self.bias,self.alpha,self.beta)\n",
    "\n",
    "#     def compute_output_shape(self, input_shape):\n",
    "#         return (input_shape[0], self.output_dim)\n"
   ]
  },
  {
   "cell_type": "code",
   "execution_count": 195,
   "metadata": {},
   "outputs": [],
   "source": [
    "layer = MyLRNLayer(input_shape=(54, 54, 96),batch_size=1)\n",
    "# print(layer(tf.zeros([1, 54, 54, 96])).shape)\n",
    "t = layer(tf.zeros([1,54, 54, 96]))\n",
    "# tshape = t.shape\n",
    "# print(len(t.shape))\n",
    "# print(tf.reshape(t, [tshape[1], tshape[2], tshape[3]]).shape)\n",
    "# print(len(layer.trainable_variables))"
   ]
  },
  {
   "cell_type": "code",
   "execution_count": 197,
   "metadata": {},
   "outputs": [
    {
     "name": "stdout",
     "output_type": "stream",
     "text": [
      "Model: \"sequential_32\"\n",
      "_________________________________________________________________\n",
      "Layer (type)                 Output Shape              Param #   \n",
      "=================================================================\n",
      "my_lrn_layer_73 (MyLRNLayer) (1, 170, 170, 3)          1         \n",
      "=================================================================\n",
      "Total params: 1\n",
      "Trainable params: 0\n",
      "Non-trainable params: 1\n",
      "_________________________________________________________________\n"
     ]
    }
   ],
   "source": [
    "modellrn = tf.keras.models.Sequential([MyLRNLayer(input_shape=(170, 170, 3),batch_size=1)])\n",
    "modellrn.build()\n",
    "modellrn.summary()"
   ]
  },
  {
   "cell_type": "code",
   "execution_count": 126,
   "metadata": {},
   "outputs": [],
   "source": [
    "model = tf.keras.models.Sequential([\n",
    "  tf.keras.layers.Conv2D(96, (11,11), strides=3 , activation='relu', input_shape=(170, 170, 3)),\n",
    "    \n",
    "  MyLRNLayer(),  \n",
    "  tf.keras.layers.MaxPooling2D(2, 2),\n",
    "  tf.keras.layers.Conv2D(256, (5,5), strides=1, activation='relu'),\n",
    "    \n",
    "  MyLRNLayer(), \n",
    "  tf.keras.layers.Conv2D(384, (3,3), strides=1, activation='relu'),\n",
    "  tf.keras.layers.MaxPooling2D(2,2),\n",
    "    \n",
    "  tf.keras.layers.Conv2D(384, (3,3), strides=1, activation='relu'),\n",
    "    \n",
    "  tf.keras.layers.Conv2D(256, (3,3), strides=1, activation='relu'),\n",
    "    \n",
    "  tf.keras.layers.MaxPooling2D(2,2),  \n",
    "  tf.keras.layers.Flatten(),\n",
    "    \n",
    "  tf.keras.layers.Dense(4096, activation='relu'),\n",
    "  tf.keras.layers.Dense(4096, activation='relu'),\n",
    "  tf.keras.layers.Dense(101, activation='softmax')\n",
    "])"
   ]
  },
  {
   "cell_type": "code",
   "execution_count": 127,
   "metadata": {},
   "outputs": [
    {
     "name": "stdout",
     "output_type": "stream",
     "text": [
      "Model: \"sequential_12\"\n",
      "_________________________________________________________________\n",
      "Layer (type)                 Output Shape              Param #   \n",
      "=================================================================\n",
      "conv2d_40 (Conv2D)           (None, 54, 54, 96)        34944     \n",
      "_________________________________________________________________\n",
      "my_lrn_layer_24 (MyLRNLayer) (None, 54, 54, 96)        1         \n",
      "_________________________________________________________________\n",
      "max_pooling2d_27 (MaxPooling (None, 27, 27, 96)        0         \n",
      "_________________________________________________________________\n",
      "conv2d_41 (Conv2D)           (None, 23, 23, 256)       614656    \n",
      "_________________________________________________________________\n",
      "my_lrn_layer_25 (MyLRNLayer) (None, 23, 23, 256)       1         \n",
      "_________________________________________________________________\n",
      "conv2d_42 (Conv2D)           (None, 21, 21, 384)       885120    \n",
      "_________________________________________________________________\n",
      "max_pooling2d_28 (MaxPooling (None, 10, 10, 384)       0         \n",
      "_________________________________________________________________\n",
      "conv2d_43 (Conv2D)           (None, 8, 8, 384)         1327488   \n",
      "_________________________________________________________________\n",
      "conv2d_44 (Conv2D)           (None, 6, 6, 256)         884992    \n",
      "_________________________________________________________________\n",
      "max_pooling2d_29 (MaxPooling (None, 3, 3, 256)         0         \n",
      "_________________________________________________________________\n",
      "flatten_11 (Flatten)         (None, 2304)              0         \n",
      "_________________________________________________________________\n",
      "dense_29 (Dense)             (None, 4096)              9441280   \n",
      "_________________________________________________________________\n",
      "dense_30 (Dense)             (None, 4096)              16781312  \n",
      "_________________________________________________________________\n",
      "dense_31 (Dense)             (None, 101)               413797    \n",
      "=================================================================\n",
      "Total params: 30,383,591\n",
      "Trainable params: 30,383,589\n",
      "Non-trainable params: 2\n",
      "_________________________________________________________________\n"
     ]
    }
   ],
   "source": [
    "model.summary()"
   ]
  },
  {
   "cell_type": "code",
   "execution_count": 18,
   "metadata": {},
   "outputs": [],
   "source": [
    "model.compile(optimizer='adam', loss='sparse_categorical_crossentropy', metrics=['accuracy'])"
   ]
  },
  {
   "cell_type": "code",
   "execution_count": 19,
   "metadata": {},
   "outputs": [
    {
     "name": "stderr",
     "output_type": "stream",
     "text": [
      "W0806 23:06:28.013512 4597519808 deprecation.py:323] From /anaconda2/envs/py37/lib/python3.7/site-packages/tensorflow_core/python/ops/math_grad.py:1251: where (from tensorflow.python.ops.array_ops) is deprecated and will be removed in a future version.\n",
      "Instructions for updating:\n",
      "Use tf.where in 2.0, which has the same broadcast rule as np.where\n",
      "W0806 23:06:28.196951 4597519808 deprecation.py:323] From /anaconda2/envs/py37/lib/python3.7/site-packages/tensorflow_core/python/keras/optimizer_v2/optimizer_v2.py:468: BaseResourceVariable.constraint (from tensorflow.python.ops.resource_variable_ops) is deprecated and will be removed in a future version.\n",
      "Instructions for updating:\n",
      "Apply a constraint manually following the optimizer update step.\n"
     ]
    },
    {
     "name": "stdout",
     "output_type": "stream",
     "text": [
      "299/299 [==============================] - 1829s 6s/step - loss: 4.6158 - acc: 0.0095\n"
     ]
    },
    {
     "data": {
      "text/plain": [
       "<tensorflow.python.keras.callbacks.History at 0x12c9f9198>"
      ]
     },
     "execution_count": 19,
     "metadata": {},
     "output_type": "execute_result"
    }
   ],
   "source": [
    "model.fit(train_batches, \n",
    "      epochs=1,\n",
    "      verbose=1)"
   ]
  },
  {
   "cell_type": "markdown",
   "metadata": {},
   "source": [
    "# Improving the single frame model by using batch normalization "
   ]
  },
  {
   "cell_type": "code",
   "execution_count": 218,
   "metadata": {},
   "outputs": [],
   "source": [
    "batch_model = tf.keras.models.Sequential([\n",
    "  tf.keras.layers.Conv2D(96, (11,11), strides=3 , activation='relu', input_shape=(170, 170, 3), batch_size=32),\n",
    "  tf.keras.layers.BatchNormalization(),\n",
    "  tf.keras.layers.MaxPooling2D(pool_size=(2, 2)),\n",
    "  tf.keras.layers.Conv2D(256, (5,5), strides=1, activation='relu'),\n",
    "    \n",
    "  tf.keras.layers.BatchNormalization(),\n",
    "  tf.keras.layers.Conv2D(384, (3,3), strides=1, activation='relu'),\n",
    "  tf.keras.layers.MaxPooling2D(2,2),\n",
    "    \n",
    "  tf.keras.layers.Conv2D(384, (3,3), strides=1, activation='relu'),\n",
    "  tf.keras.layers.Conv2D(256, (3,3), strides=1, activation='relu'),\n",
    "  tf.keras.layers.MaxPooling2D(2,2),  \n",
    "  tf.keras.layers.Flatten(),\n",
    "  tf.keras.layers.Dense(4096, activation='relu'),\n",
    "  tf.keras.layers.Dense(4096, activation='relu'),\n",
    "  tf.keras.layers.Dense(101, activation='softmax')\n",
    "])"
   ]
  },
  {
   "cell_type": "code",
   "execution_count": 219,
   "metadata": {},
   "outputs": [
    {
     "name": "stdout",
     "output_type": "stream",
     "text": [
      "Model: \"sequential_38\"\n",
      "_________________________________________________________________\n",
      "Layer (type)                 Output Shape              Param #   \n",
      "=================================================================\n",
      "conv2d_123 (Conv2D)          (32, 54, 54, 96)          34944     \n",
      "_________________________________________________________________\n",
      "batch_normalization_13 (Batc (32, 54, 54, 96)          384       \n",
      "_________________________________________________________________\n",
      "max_pooling2d_84 (MaxPooling (32, 27, 27, 96)          0         \n",
      "_________________________________________________________________\n",
      "conv2d_124 (Conv2D)          (32, 23, 23, 256)         614656    \n",
      "_________________________________________________________________\n",
      "batch_normalization_14 (Batc (32, 23, 23, 256)         1024      \n",
      "_________________________________________________________________\n",
      "conv2d_125 (Conv2D)          (32, 21, 21, 384)         885120    \n",
      "_________________________________________________________________\n",
      "max_pooling2d_85 (MaxPooling (32, 10, 10, 384)         0         \n",
      "_________________________________________________________________\n",
      "conv2d_126 (Conv2D)          (32, 8, 8, 384)           1327488   \n",
      "_________________________________________________________________\n",
      "conv2d_127 (Conv2D)          (32, 6, 6, 256)           884992    \n",
      "_________________________________________________________________\n",
      "max_pooling2d_86 (MaxPooling (32, 3, 3, 256)           0         \n",
      "_________________________________________________________________\n",
      "flatten_30 (Flatten)         (32, 2304)                0         \n",
      "_________________________________________________________________\n",
      "dense_86 (Dense)             (32, 4096)                9441280   \n",
      "_________________________________________________________________\n",
      "dense_87 (Dense)             (32, 4096)                16781312  \n",
      "_________________________________________________________________\n",
      "dense_88 (Dense)             (32, 101)                 413797    \n",
      "=================================================================\n",
      "Total params: 30,384,997\n",
      "Trainable params: 30,384,293\n",
      "Non-trainable params: 704\n",
      "_________________________________________________________________\n"
     ]
    }
   ],
   "source": [
    "batch_model.summary()"
   ]
  },
  {
   "cell_type": "code",
   "execution_count": 22,
   "metadata": {},
   "outputs": [],
   "source": [
    "batch_model.compile(optimizer='adam', loss='sparse_categorical_crossentropy', metrics=['accuracy'])"
   ]
  },
  {
   "cell_type": "code",
   "execution_count": 58,
   "metadata": {},
   "outputs": [
    {
     "ename": "NameError",
     "evalue": "name 'batch_model' is not defined",
     "output_type": "error",
     "traceback": [
      "\u001b[0;31m---------------------------------------------------------------------------\u001b[0m",
      "\u001b[0;31mNameError\u001b[0m                                 Traceback (most recent call last)",
      "\u001b[0;32m<ipython-input-58-ef24366dad50>\u001b[0m in \u001b[0;36m<module>\u001b[0;34m\u001b[0m\n\u001b[0;32m----> 1\u001b[0;31m batch_model.fit(train_batches, \n\u001b[0m\u001b[1;32m      2\u001b[0m       \u001b[0mepochs\u001b[0m\u001b[0;34m=\u001b[0m\u001b[0;36m1\u001b[0m\u001b[0;34m,\u001b[0m\u001b[0;34m\u001b[0m\u001b[0;34m\u001b[0m\u001b[0m\n\u001b[1;32m      3\u001b[0m       verbose=1)\n",
      "\u001b[0;31mNameError\u001b[0m: name 'batch_model' is not defined"
     ]
    }
   ],
   "source": [
    "batch_model.fit(train_batches, \n",
    "      epochs=1,\n",
    "      verbose=1)"
   ]
  },
  {
   "cell_type": "code",
   "execution_count": 22,
   "metadata": {
    "scrolled": true
   },
   "outputs": [
    {
     "name": "stdout",
     "output_type": "stream",
     "text": [
      "101\n",
      "9537\n"
     ]
    }
   ],
   "source": [
    "data, info = tfds.load(\"ucf101\", with_info=True)\n",
    "train_data, test_data = data['train'], data['test']\n",
    "assert isinstance(train_data, tf.data.Dataset)\n",
    "print(info.features['label'].num_classes)\n",
    "print(info.splits['train'].num_examples)"
   ]
  },
  {
   "cell_type": "code",
   "execution_count": null,
   "metadata": {},
   "outputs": [],
   "source": [
    "history = model.fit_generator(train_generator,\n",
    "#       steps_per_epoch=8,  \n",
    "      epochs=1,\n",
    "      verbose=1,\n",
    "      callbacks=[callbacks])"
   ]
  },
  {
   "cell_type": "markdown",
   "metadata": {},
   "source": [
    "# Early Fusion\n",
    "\n"
   ]
  },
  {
   "cell_type": "markdown",
   "metadata": {},
   "source": [
    "## Early Fusion with Local response normalization"
   ]
  },
  {
   "cell_type": "code",
   "execution_count": 221,
   "metadata": {},
   "outputs": [
    {
     "data": {
      "text/plain": [
       "TensorShape([Dimension(32), Dimension(10), Dimension(170), Dimension(170), Dimension(3)])"
      ]
     },
     "execution_count": 221,
     "metadata": {},
     "output_type": "execute_result"
    }
   ],
   "source": [
    "train_multi_frame_T = ucf101_train.map(format_videos)\n",
    "train_multi_frame_T = train_multi_frame_T.map(lambda x: select_frame_from_i_to_T(x,10,20))\n",
    "train_multi_frame_T = train_multi_frame_T.map(convert_to_tuple)\n",
    "\n",
    "test_multi_frame_T = ucf101_test.map(format_videos)\n",
    "test_multi_frame_T = test_multi_frame_T.map(lambda x:select_frame_from_i_to_T(x,10,20))\n",
    "test_multi_frame_T = test_multi_frame_T.map(convert_to_tuple)\n",
    "\n",
    "# train_multi_frame_T_batches = train_multi_frame_T.shuffle(SHUFFLE_BUFFER_SIZE).batch(BATCH_SIZE)\n",
    "train_multi_frame_T_batches = train_multi_frame_T.batch(BATCH_SIZE)\n",
    "test_multi_frame_T_batches = test_multi_frame_T.batch(BATCH_SIZE)\n",
    "\n",
    "for image_batch, label_batch in train_multi_frame_T_batches.take(1):\n",
    "    pass\n",
    "\n",
    "image_batch.shape\n"
   ]
  },
  {
   "cell_type": "code",
   "execution_count": 202,
   "metadata": {},
   "outputs": [],
   "source": [
    "model_early_fusion_lrn = tf.keras.models.Sequential([\n",
    "  tf.keras.layers.Conv3D(96, (10,11,11), strides=3 , activation='relu', input_shape=(10,170, 170, 3)),\n",
    "  tf.keras.layers.Reshape((54, 54,96)),  \n",
    "  MyLRNLayer(),  \n",
    "  tf.keras.layers.MaxPooling2D(2, 2),\n",
    "  tf.keras.layers.Conv2D(256, (5,5), strides=1, activation='relu'),\n",
    "    \n",
    "  MyLRNLayer(), \n",
    "  tf.keras.layers.Conv2D(384, (3,3), strides=1, activation='relu'),\n",
    "  tf.keras.layers.MaxPooling2D(2,2),\n",
    "    \n",
    "  tf.keras.layers.Conv2D(384, (3,3), strides=1, activation='relu'),\n",
    "    \n",
    "  tf.keras.layers.Conv2D(256, (3,3), strides=1, activation='relu'),\n",
    "    \n",
    "  tf.keras.layers.MaxPooling2D(2,2),  \n",
    "  tf.keras.layers.Flatten(),\n",
    "    \n",
    "  tf.keras.layers.Dense(4096, activation='relu'),\n",
    "  tf.keras.layers.Dense(4096, activation='relu'),\n",
    "  tf.keras.layers.Dense(101, activation='softmax')\n",
    "])"
   ]
  },
  {
   "cell_type": "code",
   "execution_count": 203,
   "metadata": {},
   "outputs": [
    {
     "name": "stdout",
     "output_type": "stream",
     "text": [
      "Model: \"sequential_33\"\n",
      "_________________________________________________________________\n",
      "Layer (type)                 Output Shape              Param #   \n",
      "=================================================================\n",
      "conv3d_19 (Conv3D)           (None, 1, 54, 54, 96)     348576    \n",
      "_________________________________________________________________\n",
      "reshape_1 (Reshape)          (None, 54, 54, 96)        0         \n",
      "_________________________________________________________________\n",
      "my_lrn_layer_74 (MyLRNLayer) (None, 54, 54, 96)        1         \n",
      "_________________________________________________________________\n",
      "max_pooling2d_68 (MaxPooling (None, 27, 27, 96)        0         \n",
      "_________________________________________________________________\n",
      "conv2d_98 (Conv2D)           (None, 23, 23, 256)       614656    \n",
      "_________________________________________________________________\n",
      "my_lrn_layer_75 (MyLRNLayer) (None, 23, 23, 256)       1         \n",
      "_________________________________________________________________\n",
      "conv2d_99 (Conv2D)           (None, 21, 21, 384)       885120    \n",
      "_________________________________________________________________\n",
      "max_pooling2d_69 (MaxPooling (None, 10, 10, 384)       0         \n",
      "_________________________________________________________________\n",
      "conv2d_100 (Conv2D)          (None, 8, 8, 384)         1327488   \n",
      "_________________________________________________________________\n",
      "conv2d_101 (Conv2D)          (None, 6, 6, 256)         884992    \n",
      "_________________________________________________________________\n",
      "max_pooling2d_70 (MaxPooling (None, 3, 3, 256)         0         \n",
      "_________________________________________________________________\n",
      "flatten_25 (Flatten)         (None, 2304)              0         \n",
      "_________________________________________________________________\n",
      "dense_71 (Dense)             (None, 4096)              9441280   \n",
      "_________________________________________________________________\n",
      "dense_72 (Dense)             (None, 4096)              16781312  \n",
      "_________________________________________________________________\n",
      "dense_73 (Dense)             (None, 101)               413797    \n",
      "=================================================================\n",
      "Total params: 30,697,223\n",
      "Trainable params: 30,697,221\n",
      "Non-trainable params: 2\n",
      "_________________________________________________________________\n"
     ]
    }
   ],
   "source": [
    "model_early_fusion_lrn.summary()"
   ]
  },
  {
   "cell_type": "code",
   "execution_count": 204,
   "metadata": {},
   "outputs": [],
   "source": [
    "model_early_fusion_lrn.compile(optimizer='adam', loss='sparse_categorical_crossentropy', metrics=['accuracy'])"
   ]
  },
  {
   "cell_type": "code",
   "execution_count": 209,
   "metadata": {},
   "outputs": [
    {
     "name": "stderr",
     "output_type": "stream",
     "text": [
      "W0810 10:19:55.103113 4579505600 deprecation.py:323] From /anaconda2/envs/py37/lib/python3.7/site-packages/tensorflow_core/python/ops/math_grad.py:1251: where (from tensorflow.python.ops.array_ops) is deprecated and will be removed in a future version.\n",
      "Instructions for updating:\n",
      "Use tf.where in 2.0, which has the same broadcast rule as np.where\n",
      "W0810 10:19:55.442255 4579505600 deprecation.py:323] From /anaconda2/envs/py37/lib/python3.7/site-packages/tensorflow_core/python/keras/optimizer_v2/optimizer_v2.py:468: BaseResourceVariable.constraint (from tensorflow.python.ops.resource_variable_ops) is deprecated and will be removed in a future version.\n",
      "Instructions for updating:\n",
      "Apply a constraint manually following the optimizer update step.\n"
     ]
    },
    {
     "name": "stdout",
     "output_type": "stream",
     "text": [
      "299/299 [==============================] - 3207s 11s/step - loss: 4.6180 - acc: 0.0093\n"
     ]
    },
    {
     "data": {
      "text/plain": [
       "<tensorflow.python.keras.callbacks.History at 0x1a57bd1550>"
      ]
     },
     "execution_count": 209,
     "metadata": {},
     "output_type": "execute_result"
    }
   ],
   "source": [
    "model_early_fusion_lrn.fit(train_multi_frame_T_batches, \n",
    "      epochs=1,\n",
    "      verbose=1)"
   ]
  },
  {
   "cell_type": "markdown",
   "metadata": {},
   "source": [
    "## Early Fusion with Batch normalization"
   ]
  },
  {
   "cell_type": "code",
   "execution_count": null,
   "metadata": {},
   "outputs": [],
   "source": []
  },
  {
   "cell_type": "code",
   "execution_count": null,
   "metadata": {},
   "outputs": [],
   "source": []
  },
  {
   "cell_type": "markdown",
   "metadata": {},
   "source": [
    "# Late Fusion"
   ]
  },
  {
   "cell_type": "code",
   "execution_count": null,
   "metadata": {},
   "outputs": [],
   "source": [
    "x = model.layers[index].output"
   ]
  },
  {
   "cell_type": "markdown",
   "metadata": {},
   "source": [
    "## Late Fusion with Local response normalization"
   ]
  },
  {
   "cell_type": "code",
   "execution_count": 99,
   "metadata": {},
   "outputs": [],
   "source": [
    "def get_label(dataset):\n",
    "    x = dataset[\"video\"]\n",
    "    return y \n",
    "\n",
    "def get_video(dataset):\n",
    "    x = dataset[\"video\"]\n",
    "    return x "
   ]
  },
  {
   "cell_type": "code",
   "execution_count": 105,
   "metadata": {},
   "outputs": [
    {
     "name": "stdout",
     "output_type": "stream",
     "text": [
      "(170, 170, 3)\n",
      "(170, 170, 3)\n"
     ]
    },
    {
     "data": {
      "text/plain": [
       "<generator object _eager_dataset_iterator at 0x1a4fa09750>"
      ]
     },
     "execution_count": 105,
     "metadata": {},
     "output_type": "execute_result"
    }
   ],
   "source": [
    "train_start = ucf101_train.map(format_videos)\n",
    "train_start = train_start.map(lambda x: select_frame_at_T(x,0))\n",
    "train_start_label = train_start.map(get_label)\n",
    "train_start = train_start.map(get_video)\n",
    "\n",
    "\n",
    "\n",
    "test_start = ucf101_test.map(format_videos)\n",
    "test_start = test_start.map(lambda x: select_frame_at_T(x,0))\n",
    "test_start_label = test_start.map(get_label)\n",
    "test_start = test_start.map(get_video)\n",
    "\n",
    "\n",
    "# test_start, test_start_label = test_start.map(convert_to_tuple)\n",
    "\n",
    "\n",
    "train_end = ucf101_train.map(format_videos)\n",
    "train_end = train_end.map(lambda x: select_frame_at_T(x,10))\n",
    "train_end_label = train_end.map(get_label)\n",
    "train_end = train_end.map(get_video)\n",
    "\n",
    "\n",
    "# train_end, train_end_label = train_end.map(convert_to_tuple)\n",
    "\n",
    "test_end = ucf101_test.map(format_videos)\n",
    "test_end = test_end.map(lambda x: select_frame_at_T(x,10))\n",
    "test_end_label = test_end.map(get_label)\n",
    "test_end = test_end.map(get_video)\n",
    "# test_end, test_end_label = test_end.map(convert_to_tuple)\n",
    "\n",
    "for x in train_start.take(1):\n",
    "    print(x.shape)\n",
    "for x in train_end.take(1):\n",
    "    print(x.shape)    \n",
    "#     print(y.shape, y)\n",
    "\n",
    "tfds.as_numpy(test_end)\n",
    "    \n",
    "# for x, y in train_end.take(1):\n",
    "#     print(x.shape)\n",
    "#     print(y.shape, y)    "
   ]
  },
  {
   "cell_type": "code",
   "execution_count": 110,
   "metadata": {
    "scrolled": true
   },
   "outputs": [
    {
     "name": "stdout",
     "output_type": "stream",
     "text": [
      "Object `generator` not found.\n"
     ]
    }
   ],
   "source": [
    "generator?"
   ]
  },
  {
   "cell_type": "code",
   "execution_count": 101,
   "metadata": {},
   "outputs": [],
   "source": [
    "# BATCH_SIZE = 32\n",
    "# SHUFFLE_BUFFER_SIZE = 0 #1000\n",
    "# # not so the values are aligned\n",
    "# train_start_batches = train_start.batch(BATCH_SIZE)\n",
    "# test_start_batches = test_start.batch(BATCH_SIZE)\n",
    "# train_end_batches = train_end.batch(BATCH_SIZE)\n",
    "# test_end_batches = test_end.batch(BATCH_SIZE)\n",
    "\n",
    "# train_start_label_batches = train_start_label.batch(BATCH_SIZE)\n",
    "# test_start_label_batches = test_start_label.batch(BATCH_SIZE)\n",
    "# train_end_label_batches = train_end_label.batch(BATCH_SIZE)\n",
    "# test_end_label_batches = test_end_label.batch(BATCH_SIZE)\n",
    "\n",
    "# for x, y in train_start_batches.take(1):\n",
    "#     print(x.shape)\n",
    "#     print(y.shape) \n",
    "# # print(train_start_batches.take(1))"
   ]
  },
  {
   "cell_type": "code",
   "execution_count": 83,
   "metadata": {},
   "outputs": [],
   "source": [
    "train_clip_start = tf.keras.Input(shape=(170, 170, 3), name='start')  # Variable-length sequence of ints\n",
    "train_clip_end = tf.keras.Input(shape=(170, 170, 3), name='end')  # Variable-length sequence of ints\n",
    "\n",
    "# Embed each word in the title into a 64-dimensional vector\n",
    "start_features = tf.keras.layers.Conv2D(96, (11,11), strides=3 , activation='relu', input_shape=(170, 170, 3))(train_clip_start)\n",
    "start_features = MyLRNLayer()(start_features)  \n",
    "start_features = tf.keras.layers.MaxPooling2D(2, 2)(start_features) \n",
    "start_features = tf.keras.layers.Conv2D(256, (5,5), strides=1, activation='relu')(start_features) \n",
    "start_features = MyLRNLayer()(start_features) \n",
    "start_features = tf.keras.layers.Conv2D(384, (3,3), strides=1, activation='relu')(start_features)\n",
    "start_features = tf.keras.layers.MaxPooling2D(2,2)(start_features)\n",
    "start_features = tf.keras.layers.Conv2D(384, (3,3), strides=1, activation='relu')(start_features)\n",
    "start_features = tf.keras.layers.Conv2D(256, (3,3), strides=1, activation='relu')(start_features)\n",
    "start_features = tf.keras.layers.MaxPooling2D(2,2)(start_features)  \n",
    "\n",
    "\n",
    "# Embed each word in the title into a 64-dimensional vector\n",
    "end_features = tf.keras.layers.Conv2D(96, (11,11), strides=3 , activation='relu', input_shape=(170, 170, 3))(train_clip_end)\n",
    "end_features = MyLRNLayer()(end_features)  \n",
    "end_features = tf.keras.layers.MaxPooling2D(2, 2)(end_features) \n",
    "end_features = tf.keras.layers.Conv2D(256, (5,5), strides=1, activation='relu')(end_features) \n",
    "end_features = MyLRNLayer()(end_features) \n",
    "end_features = tf.keras.layers.Conv2D(384, (3,3), strides=1, activation='relu')(end_features)\n",
    "end_features = tf.keras.layers.MaxPooling2D(2,2)(end_features)\n",
    "end_features = tf.keras.layers.Conv2D(384, (3,3), strides=1, activation='relu')(end_features)\n",
    "end_features = tf.keras.layers.Conv2D(256, (3,3), strides=1, activation='relu')(end_features)\n",
    "end_features = tf.keras.layers.MaxPooling2D(2,2)(end_features)  \n",
    "\n",
    "# Merge all available features into a single large vector via concatenation\n",
    "x = tf.keras.layers.concatenate([start_features, end_features])\n",
    "x =  tf.keras.layers.Flatten()(x)\n",
    "x =  tf.keras.layers.Dense(4096, activation='relu')(x)\n",
    "x =  tf.keras.layers.Dense(4096, activation='relu')(x)\n",
    "x =  tf.keras.layers.Dense(101, activation='softmax', name='label')(x)\n",
    "\n",
    "# Instantiate an end-to-end model predicting both priority and department\n",
    "late_fusion_model_LRN = tf.keras.Model(inputs=[train_clip_start, train_clip_end],\n",
    "                    outputs=[x])"
   ]
  },
  {
   "cell_type": "code",
   "execution_count": 84,
   "metadata": {},
   "outputs": [
    {
     "name": "stdout",
     "output_type": "stream",
     "text": [
      "Model: \"model_2\"\n",
      "__________________________________________________________________________________________________\n",
      "Layer (type)                    Output Shape         Param #     Connected to                     \n",
      "==================================================================================================\n",
      "start (InputLayer)              [(None, 170, 170, 3) 0                                            \n",
      "__________________________________________________________________________________________________\n",
      "end (InputLayer)                [(None, 170, 170, 3) 0                                            \n",
      "__________________________________________________________________________________________________\n",
      "conv2d_21 (Conv2D)              (None, 54, 54, 96)   34944       start[0][0]                      \n",
      "__________________________________________________________________________________________________\n",
      "conv2d_26 (Conv2D)              (None, 54, 54, 96)   34944       end[0][0]                        \n",
      "__________________________________________________________________________________________________\n",
      "my_lrn_layer_6 (MyLRNLayer)     (None, 54, 54, 96)   1           conv2d_21[0][0]                  \n",
      "__________________________________________________________________________________________________\n",
      "my_lrn_layer_8 (MyLRNLayer)     (None, 54, 54, 96)   1           conv2d_26[0][0]                  \n",
      "__________________________________________________________________________________________________\n",
      "max_pooling2d_12 (MaxPooling2D) (None, 27, 27, 96)   0           my_lrn_layer_6[0][0]             \n",
      "__________________________________________________________________________________________________\n",
      "max_pooling2d_15 (MaxPooling2D) (None, 27, 27, 96)   0           my_lrn_layer_8[0][0]             \n",
      "__________________________________________________________________________________________________\n",
      "conv2d_22 (Conv2D)              (None, 23, 23, 256)  614656      max_pooling2d_12[0][0]           \n",
      "__________________________________________________________________________________________________\n",
      "conv2d_27 (Conv2D)              (None, 23, 23, 256)  614656      max_pooling2d_15[0][0]           \n",
      "__________________________________________________________________________________________________\n",
      "my_lrn_layer_7 (MyLRNLayer)     (None, 23, 23, 256)  1           conv2d_22[0][0]                  \n",
      "__________________________________________________________________________________________________\n",
      "my_lrn_layer_9 (MyLRNLayer)     (None, 23, 23, 256)  1           conv2d_27[0][0]                  \n",
      "__________________________________________________________________________________________________\n",
      "conv2d_23 (Conv2D)              (None, 21, 21, 384)  885120      my_lrn_layer_7[0][0]             \n",
      "__________________________________________________________________________________________________\n",
      "conv2d_28 (Conv2D)              (None, 21, 21, 384)  885120      my_lrn_layer_9[0][0]             \n",
      "__________________________________________________________________________________________________\n",
      "max_pooling2d_13 (MaxPooling2D) (None, 10, 10, 384)  0           conv2d_23[0][0]                  \n",
      "__________________________________________________________________________________________________\n",
      "max_pooling2d_16 (MaxPooling2D) (None, 10, 10, 384)  0           conv2d_28[0][0]                  \n",
      "__________________________________________________________________________________________________\n",
      "conv2d_24 (Conv2D)              (None, 8, 8, 384)    1327488     max_pooling2d_13[0][0]           \n",
      "__________________________________________________________________________________________________\n",
      "conv2d_29 (Conv2D)              (None, 8, 8, 384)    1327488     max_pooling2d_16[0][0]           \n",
      "__________________________________________________________________________________________________\n",
      "conv2d_25 (Conv2D)              (None, 6, 6, 256)    884992      conv2d_24[0][0]                  \n",
      "__________________________________________________________________________________________________\n",
      "conv2d_30 (Conv2D)              (None, 6, 6, 256)    884992      conv2d_29[0][0]                  \n",
      "__________________________________________________________________________________________________\n",
      "max_pooling2d_14 (MaxPooling2D) (None, 3, 3, 256)    0           conv2d_25[0][0]                  \n",
      "__________________________________________________________________________________________________\n",
      "max_pooling2d_17 (MaxPooling2D) (None, 3, 3, 256)    0           conv2d_30[0][0]                  \n",
      "__________________________________________________________________________________________________\n",
      "concatenate_2 (Concatenate)     (None, 3, 3, 512)    0           max_pooling2d_14[0][0]           \n",
      "                                                                 max_pooling2d_17[0][0]           \n",
      "__________________________________________________________________________________________________\n",
      "flatten_2 (Flatten)             (None, 4608)         0           concatenate_2[0][0]              \n",
      "__________________________________________________________________________________________________\n",
      "dense_6 (Dense)                 (None, 4096)         18878464    flatten_2[0][0]                  \n",
      "__________________________________________________________________________________________________\n",
      "dense_7 (Dense)                 (None, 4096)         16781312    dense_6[0][0]                    \n",
      "__________________________________________________________________________________________________\n",
      "label (Dense)                   (None, 101)          413797      dense_7[0][0]                    \n",
      "==================================================================================================\n",
      "Total params: 43,567,977\n",
      "Trainable params: 43,567,973\n",
      "Non-trainable params: 4\n",
      "__________________________________________________________________________________________________\n"
     ]
    }
   ],
   "source": [
    "late_fusion_model_LRN.summary()"
   ]
  },
  {
   "cell_type": "code",
   "execution_count": 85,
   "metadata": {},
   "outputs": [
    {
     "data": {
      "image/png": "[encoded data removed]",
      "text/plain": [
       "<IPython.core.display.Image object>"
      ]
     },
     "execution_count": 85,
     "metadata": {},
     "output_type": "execute_result"
    }
   ],
   "source": [
    "tf.keras.utils.plot_model(late_fusion_model_LRN, 'late_fusion_model_LRN.png', show_shapes=True)"
   ]
  },
  {
   "cell_type": "code",
   "execution_count": null,
   "metadata": {},
   "outputs": [],
   "source": []
  },
  {
   "cell_type": "code",
   "execution_count": 86,
   "metadata": {},
   "outputs": [],
   "source": [
    "late_fusion_model_LRN.compile(optimizer='adam', loss='sparse_categorical_crossentropy', metrics=['accuracy'])\n",
    "\n",
    "# late_fusion_model_LRN.compile(optimizer='adam',\n",
    "#               loss=['parse_categorical_crossentropy', 'parse_categorical_crossentropy'])"
   ]
  },
  {
   "cell_type": "code",
   "execution_count": 223,
   "metadata": {},
   "outputs": [
    {
     "ename": "AttributeError",
     "evalue": "'DatasetV1Adapter' object has no attribute 'shape'",
     "output_type": "error",
     "traceback": [
      "\u001b[0;31m---------------------------------------------------------------------------\u001b[0m",
      "\u001b[0;31mAttributeError\u001b[0m                            Traceback (most recent call last)",
      "\u001b[0;32m<ipython-input-223-14e0b343944e>\u001b[0m in \u001b[0;36m<module>\u001b[0;34m\u001b[0m\n\u001b[1;32m      1\u001b[0m late_fusion_model_LRN.fit({'start': train_start, 'end':train_end}, {'label': train_start_label}, \n\u001b[0;32m----> 2\u001b[0;31m       epochs=1,batch_size=32)\n\u001b[0m",
      "\u001b[0;32m/anaconda2/envs/py37/lib/python3.7/site-packages/tensorflow_core/python/keras/engine/training.py\u001b[0m in \u001b[0;36mfit\u001b[0;34m(self, x, y, batch_size, epochs, verbose, callbacks, validation_split, validation_data, shuffle, class_weight, sample_weight, initial_epoch, steps_per_epoch, validation_steps, validation_freq, max_queue_size, workers, use_multiprocessing, **kwargs)\u001b[0m\n\u001b[1;32m    708\u001b[0m         \u001b[0mmax_queue_size\u001b[0m\u001b[0;34m=\u001b[0m\u001b[0mmax_queue_size\u001b[0m\u001b[0;34m,\u001b[0m\u001b[0;34m\u001b[0m\u001b[0;34m\u001b[0m\u001b[0m\n\u001b[1;32m    709\u001b[0m         \u001b[0mworkers\u001b[0m\u001b[0;34m=\u001b[0m\u001b[0mworkers\u001b[0m\u001b[0;34m,\u001b[0m\u001b[0;34m\u001b[0m\u001b[0;34m\u001b[0m\u001b[0m\n\u001b[0;32m--> 710\u001b[0;31m         use_multiprocessing=use_multiprocessing)\n\u001b[0m\u001b[1;32m    711\u001b[0m \u001b[0;34m\u001b[0m\u001b[0m\n\u001b[1;32m    712\u001b[0m   def evaluate(self,\n",
      "\u001b[0;32m/anaconda2/envs/py37/lib/python3.7/site-packages/tensorflow_core/python/keras/engine/training_arrays.py\u001b[0m in \u001b[0;36mfit\u001b[0;34m(self, model, x, y, batch_size, epochs, verbose, callbacks, validation_split, validation_data, shuffle, class_weight, sample_weight, initial_epoch, steps_per_epoch, validation_steps, validation_freq, **kwargs)\u001b[0m\n\u001b[1;32m    633\u001b[0m         \u001b[0msteps\u001b[0m\u001b[0;34m=\u001b[0m\u001b[0msteps_per_epoch\u001b[0m\u001b[0;34m,\u001b[0m\u001b[0;34m\u001b[0m\u001b[0;34m\u001b[0m\u001b[0m\n\u001b[1;32m    634\u001b[0m         \u001b[0mvalidation_split\u001b[0m\u001b[0;34m=\u001b[0m\u001b[0mvalidation_split\u001b[0m\u001b[0;34m,\u001b[0m\u001b[0;34m\u001b[0m\u001b[0;34m\u001b[0m\u001b[0m\n\u001b[0;32m--> 635\u001b[0;31m         shuffle=shuffle)\n\u001b[0m\u001b[1;32m    636\u001b[0m \u001b[0;34m\u001b[0m\u001b[0m\n\u001b[1;32m    637\u001b[0m     \u001b[0;32mif\u001b[0m \u001b[0mvalidation_data\u001b[0m\u001b[0;34m:\u001b[0m\u001b[0;34m\u001b[0m\u001b[0;34m\u001b[0m\u001b[0m\n",
      "\u001b[0;32m/anaconda2/envs/py37/lib/python3.7/site-packages/tensorflow_core/python/keras/engine/training.py\u001b[0m in \u001b[0;36m_standardize_user_data\u001b[0;34m(self, x, y, sample_weight, class_weight, batch_size, check_steps, steps_name, steps, validation_split, shuffle, extract_tensors_from_dataset)\u001b[0m\n\u001b[1;32m   2464\u001b[0m           \u001b[0mfeed_input_shapes\u001b[0m\u001b[0;34m,\u001b[0m\u001b[0;34m\u001b[0m\u001b[0;34m\u001b[0m\u001b[0m\n\u001b[1;32m   2465\u001b[0m           \u001b[0mcheck_batch_axis\u001b[0m\u001b[0;34m=\u001b[0m\u001b[0;32mFalse\u001b[0m\u001b[0;34m,\u001b[0m  \u001b[0;31m# Don't enforce the batch size.\u001b[0m\u001b[0;34m\u001b[0m\u001b[0;34m\u001b[0m\u001b[0m\n\u001b[0;32m-> 2466\u001b[0;31m           exception_prefix='input')\n\u001b[0m\u001b[1;32m   2467\u001b[0m \u001b[0;34m\u001b[0m\u001b[0m\n\u001b[1;32m   2468\u001b[0m     \u001b[0;31m# Get typespecs for the input data and sanitize it if necessary.\u001b[0m\u001b[0;34m\u001b[0m\u001b[0;34m\u001b[0m\u001b[0;34m\u001b[0m\u001b[0m\n",
      "\u001b[0;32m/anaconda2/envs/py37/lib/python3.7/site-packages/tensorflow_core/python/keras/engine/training_utils.py\u001b[0m in \u001b[0;36mstandardize_input_data\u001b[0;34m(data, names, shapes, check_batch_axis, exception_prefix)\u001b[0m\n\u001b[1;32m    510\u001b[0m           \u001b[0mdata_shape\u001b[0m \u001b[0;34m=\u001b[0m \u001b[0mtuple\u001b[0m\u001b[0;34m(\u001b[0m\u001b[0mtensorshape\u001b[0m\u001b[0;34m.\u001b[0m\u001b[0mas_list\u001b[0m\u001b[0;34m(\u001b[0m\u001b[0;34m)\u001b[0m\u001b[0;34m)\u001b[0m\u001b[0;34m\u001b[0m\u001b[0;34m\u001b[0m\u001b[0m\n\u001b[1;32m    511\u001b[0m         \u001b[0;32melif\u001b[0m \u001b[0mcomposite_tensor_utils\u001b[0m\u001b[0;34m.\u001b[0m\u001b[0mis_composite_or_composite_value\u001b[0m\u001b[0;34m(\u001b[0m\u001b[0mdata\u001b[0m\u001b[0;34m[\u001b[0m\u001b[0mi\u001b[0m\u001b[0;34m]\u001b[0m\u001b[0;34m)\u001b[0m\u001b[0;34m:\u001b[0m\u001b[0;34m\u001b[0m\u001b[0;34m\u001b[0m\u001b[0m\n\u001b[0;32m--> 512\u001b[0;31m           \u001b[0mtensorshape\u001b[0m \u001b[0;34m=\u001b[0m \u001b[0mcomposite_tensor_utils\u001b[0m\u001b[0;34m.\u001b[0m\u001b[0mget_shape\u001b[0m\u001b[0;34m(\u001b[0m\u001b[0mdata\u001b[0m\u001b[0;34m[\u001b[0m\u001b[0mi\u001b[0m\u001b[0;34m]\u001b[0m\u001b[0;34m)\u001b[0m\u001b[0;34m\u001b[0m\u001b[0;34m\u001b[0m\u001b[0m\n\u001b[0m\u001b[1;32m    513\u001b[0m           \u001b[0mdata_shape\u001b[0m \u001b[0;34m=\u001b[0m \u001b[0mtuple\u001b[0m\u001b[0;34m(\u001b[0m\u001b[0mtensorshape\u001b[0m\u001b[0;34m.\u001b[0m\u001b[0mas_list\u001b[0m\u001b[0;34m(\u001b[0m\u001b[0;34m)\u001b[0m\u001b[0;34m)\u001b[0m\u001b[0;34m\u001b[0m\u001b[0;34m\u001b[0m\u001b[0m\n\u001b[1;32m    514\u001b[0m         \u001b[0;32melse\u001b[0m\u001b[0;34m:\u001b[0m\u001b[0;34m\u001b[0m\u001b[0;34m\u001b[0m\u001b[0m\n",
      "\u001b[0;32m/anaconda2/envs/py37/lib/python3.7/site-packages/tensorflow_core/python/framework/composite_tensor_utils.py\u001b[0m in \u001b[0;36mget_shape\u001b[0;34m(tensor)\u001b[0m\n\u001b[1;32m     45\u001b[0m     \u001b[0;32mreturn\u001b[0m \u001b[0mtensor\u001b[0m\u001b[0;34m.\u001b[0m\u001b[0mdense_shape\u001b[0m\u001b[0;34m\u001b[0m\u001b[0;34m\u001b[0m\u001b[0m\n\u001b[1;32m     46\u001b[0m   \u001b[0;32melse\u001b[0m\u001b[0;34m:\u001b[0m\u001b[0;34m\u001b[0m\u001b[0;34m\u001b[0m\u001b[0m\n\u001b[0;32m---> 47\u001b[0;31m     \u001b[0;32mreturn\u001b[0m \u001b[0mtensor\u001b[0m\u001b[0;34m.\u001b[0m\u001b[0mshape\u001b[0m\u001b[0;34m\u001b[0m\u001b[0;34m\u001b[0m\u001b[0m\n\u001b[0m\u001b[1;32m     48\u001b[0m \u001b[0;34m\u001b[0m\u001b[0m\n\u001b[1;32m     49\u001b[0m \u001b[0;34m\u001b[0m\u001b[0m\n",
      "\u001b[0;31mAttributeError\u001b[0m: 'DatasetV1Adapter' object has no attribute 'shape'"
     ]
    }
   ],
   "source": [
    "late_fusion_model_LRN.fit({'start': train_start, 'end':train_end}, {'label': train_start_label}, \n",
    "      epochs=1,batch_size=32)"
   ]
  },
  {
   "cell_type": "markdown",
   "metadata": {},
   "source": [
    "## Late Fusion with Batch normalization"
   ]
  },
  {
   "cell_type": "code",
   "execution_count": null,
   "metadata": {},
   "outputs": [],
   "source": []
  },
  {
   "cell_type": "code",
   "execution_count": 37,
   "metadata": {},
   "outputs": [],
   "source": [
    "train_clip_start = tf.keras.Input(shape=(170, 170, 3), name='start')  # Variable-length sequence of ints\n",
    "train_clip_end = tf.keras.Input(shape=(170, 170, 3), name='end')  # Variable-length sequence of ints\n",
    "\n",
    "# Embed each word in the title into a 64-dimensional vector\n",
    "start_features = tf.keras.layers.Conv2D(96, (11,11), strides=3 , activation='relu', input_shape=(170, 170, 3))(train_clip_start)\n",
    "start_features = tf.keras.layers.BatchNormalization()(start_features)  \n",
    "start_features = tf.keras.layers.MaxPooling2D(2, 2)(start_features) \n",
    "start_features = tf.keras.layers.Conv2D(256, (5,5), strides=1, activation='relu')(start_features) \n",
    "start_features = tf.keras.layers.BatchNormalization()(start_features) \n",
    "start_features = tf.keras.layers.Conv2D(384, (3,3), strides=1, activation='relu')(start_features)\n",
    "start_features = tf.keras.layers.MaxPooling2D(2,2)(start_features)\n",
    "start_features = tf.keras.layers.Conv2D(384, (3,3), strides=1, activation='relu')(start_features)\n",
    "start_features = tf.keras.layers.Conv2D(256, (3,3), strides=1, activation='relu')(start_features)\n",
    "start_features = tf.keras.layers.MaxPooling2D(2,2)(start_features)  \n",
    "\n",
    "\n",
    "# Embed each word in the title into a 64-dimensional vector\n",
    "end_features = tf.keras.layers.Conv2D(96, (11,11), strides=3 , activation='relu', input_shape=(170, 170, 3))(train_clip_end)\n",
    "end_features = tf.keras.layers.BatchNormalization()(end_features)  \n",
    "end_features = tf.keras.layers.MaxPooling2D(2, 2)(end_features) \n",
    "end_features = tf.keras.layers.Conv2D(256, (5,5), strides=1, activation='relu')(end_features) \n",
    "end_features = tf.keras.layers.BatchNormalization()(end_features) \n",
    "end_features = tf.keras.layers.Conv2D(384, (3,3), strides=1, activation='relu')(end_features)\n",
    "end_features = tf.keras.layers.MaxPooling2D(2,2)(end_features)\n",
    "end_features = tf.keras.layers.Conv2D(384, (3,3), strides=1, activation='relu')(end_features)\n",
    "end_features = tf.keras.layers.Conv2D(256, (3,3), strides=1, activation='relu')(end_features)\n",
    "end_features = tf.keras.layers.MaxPooling2D(2,2)(end_features)  \n",
    "\n",
    "# Merge all available features into a single large vector via concatenation\n",
    "x = tf.keras.layers.concatenate([start_features, end_features])\n",
    "x =  tf.keras.layers.Flatten()(x)\n",
    "x =  tf.keras.layers.Dense(4096, activation='relu')(x)\n",
    "x =  tf.keras.layers.Dense(4096, activation='relu')(x)\n",
    "x =  tf.keras.layers.Dense(101, activation='softmax')(x)\n",
    "\n",
    "# Instantiate an end-to-end model predicting both priority and department\n",
    "late_fusion_model_bn = tf.keras.Model(inputs=[train_clip_start, train_clip_end],\n",
    "                    outputs=[x])"
   ]
  },
  {
   "cell_type": "code",
   "execution_count": 73,
   "metadata": {},
   "outputs": [
    {
     "name": "stdout",
     "output_type": "stream",
     "text": [
      "Model: \"model_6\"\n",
      "__________________________________________________________________________________________________\n",
      "Layer (type)                    Output Shape         Param #     Connected to                     \n",
      "==================================================================================================\n",
      "start (InputLayer)              [(None, 170, 170, 3) 0                                            \n",
      "__________________________________________________________________________________________________\n",
      "end (InputLayer)                [(None, 170, 170, 3) 0                                            \n",
      "__________________________________________________________________________________________________\n",
      "conv2d_163 (Conv2D)             (None, 54, 54, 96)   34944       start[0][0]                      \n",
      "__________________________________________________________________________________________________\n",
      "conv2d_168 (Conv2D)             (None, 54, 54, 96)   34944       end[0][0]                        \n",
      "__________________________________________________________________________________________________\n",
      "batch_normalization_8 (BatchNor (None, 54, 54, 96)   384         conv2d_163[0][0]                 \n",
      "__________________________________________________________________________________________________\n",
      "batch_normalization_10 (BatchNo (None, 54, 54, 96)   384         conv2d_168[0][0]                 \n",
      "__________________________________________________________________________________________________\n",
      "max_pooling2d_96 (MaxPooling2D) (None, 27, 27, 96)   0           batch_normalization_8[0][0]      \n",
      "__________________________________________________________________________________________________\n",
      "max_pooling2d_99 (MaxPooling2D) (None, 27, 27, 96)   0           batch_normalization_10[0][0]     \n",
      "__________________________________________________________________________________________________\n",
      "conv2d_164 (Conv2D)             (None, 23, 23, 256)  614656      max_pooling2d_96[0][0]           \n",
      "__________________________________________________________________________________________________\n",
      "conv2d_169 (Conv2D)             (None, 23, 23, 256)  614656      max_pooling2d_99[0][0]           \n",
      "__________________________________________________________________________________________________\n",
      "batch_normalization_9 (BatchNor (None, 23, 23, 256)  1024        conv2d_164[0][0]                 \n",
      "__________________________________________________________________________________________________\n",
      "batch_normalization_11 (BatchNo (None, 23, 23, 256)  1024        conv2d_169[0][0]                 \n",
      "__________________________________________________________________________________________________\n",
      "conv2d_165 (Conv2D)             (None, 21, 21, 384)  885120      batch_normalization_9[0][0]      \n",
      "__________________________________________________________________________________________________\n",
      "conv2d_170 (Conv2D)             (None, 21, 21, 384)  885120      batch_normalization_11[0][0]     \n",
      "__________________________________________________________________________________________________\n",
      "max_pooling2d_97 (MaxPooling2D) (None, 10, 10, 384)  0           conv2d_165[0][0]                 \n",
      "__________________________________________________________________________________________________\n",
      "max_pooling2d_100 (MaxPooling2D (None, 10, 10, 384)  0           conv2d_170[0][0]                 \n",
      "__________________________________________________________________________________________________\n",
      "conv2d_166 (Conv2D)             (None, 8, 8, 384)    1327488     max_pooling2d_97[0][0]           \n",
      "__________________________________________________________________________________________________\n",
      "conv2d_171 (Conv2D)             (None, 8, 8, 384)    1327488     max_pooling2d_100[0][0]          \n",
      "__________________________________________________________________________________________________\n",
      "conv2d_167 (Conv2D)             (None, 6, 6, 256)    884992      conv2d_166[0][0]                 \n",
      "__________________________________________________________________________________________________\n",
      "conv2d_172 (Conv2D)             (None, 6, 6, 256)    884992      conv2d_171[0][0]                 \n",
      "__________________________________________________________________________________________________\n",
      "max_pooling2d_98 (MaxPooling2D) (None, 3, 3, 256)    0           conv2d_167[0][0]                 \n",
      "__________________________________________________________________________________________________\n",
      "max_pooling2d_101 (MaxPooling2D (None, 3, 3, 256)    0           conv2d_172[0][0]                 \n",
      "__________________________________________________________________________________________________\n",
      "concatenate_9 (Concatenate)     (None, 3, 3, 512)    0           max_pooling2d_98[0][0]           \n",
      "                                                                 max_pooling2d_101[0][0]          \n",
      "__________________________________________________________________________________________________\n",
      "flatten_14 (Flatten)            (None, 4608)         0           concatenate_9[0][0]              \n",
      "__________________________________________________________________________________________________\n",
      "dense_42 (Dense)                (None, 4096)         18878464    flatten_14[0][0]                 \n",
      "__________________________________________________________________________________________________\n",
      "dense_43 (Dense)                (None, 4096)         16781312    dense_42[0][0]                   \n",
      "__________________________________________________________________________________________________\n",
      "dense_44 (Dense)                (None, 101)          413797      dense_43[0][0]                   \n",
      "==================================================================================================\n",
      "Total params: 43,570,789\n",
      "Trainable params: 43,569,381\n",
      "Non-trainable params: 1,408\n",
      "__________________________________________________________________________________________________\n"
     ]
    }
   ],
   "source": [
    "late_fusion_model_bn.summary()"
   ]
  },
  {
   "cell_type": "markdown",
   "metadata": {},
   "source": [
    "# Slow Fusion"
   ]
  },
  {
   "cell_type": "code",
   "execution_count": null,
   "metadata": {},
   "outputs": [],
   "source": [
    "Slow Fusion"
   ]
  },
  {
   "cell_type": "code",
   "execution_count": null,
   "metadata": {},
   "outputs": [],
   "source": [
    "inputs_1 = tf.keras.Input(shape=(32,))  # Returns a placeholder tensor\n",
    "inputs_T = tf.keras.Input(shape=(32,))  # Returns a placeholder tensor\n",
    "\n",
    "# A layer instance is callable on a tensor, and returns a tensor.\n",
    "x = layers.Dense(64, activation='relu')(inputs)\n",
    "x = layers.Dense(64, activation='relu')(x)\n",
    "predictions = layers.Dense(10, activation='softmax')(x)\n",
    "\n",
    "model = tf.keras.Model(inputs=inputs, outputs=predictions)\n",
    "\n",
    "# The compile step specifies the training configuration.\n",
    "model.compile(optimizer=tf.train.RMSPropOptimizer(0.001),\n",
    "              loss='categorical_crossentropy',\n",
    "              metrics=['accuracy'])\n",
    "\n",
    "# Trains for 5 epochs\n",
    "model.fit(data, labels, batch_size=32, epochs=5)"
   ]
  },
  {
   "cell_type": "code",
   "execution_count": 79,
   "metadata": {},
   "outputs": [],
   "source": [
    "tf.keras.layers?"
   ]
  },
  {
   "cell_type": "code",
   "execution_count": 216,
   "metadata": {},
   "outputs": [],
   "source": []
  },
  {
   "cell_type": "code",
   "execution_count": 220,
   "metadata": {},
   "outputs": [],
   "source": []
  },
  {
   "cell_type": "code",
   "execution_count": 224,
   "metadata": {},
   "outputs": [
    {
     "ename": "TypeError",
     "evalue": "'MapDataset' object is not subscriptable",
     "output_type": "error",
     "traceback": [
      "\u001b[0;31m---------------------------------------------------------------------------\u001b[0m",
      "\u001b[0;31mTypeError\u001b[0m                                 Traceback (most recent call last)",
      "\u001b[0;32m<ipython-input-224-14af19e401d9>\u001b[0m in \u001b[0;36m<module>\u001b[0;34m\u001b[0m\n\u001b[0;32m----> 1\u001b[0;31m \u001b[0mtrain_dataset\u001b[0m\u001b[0;34m[\u001b[0m\u001b[0;34m\"label\"\u001b[0m\u001b[0;34m]\u001b[0m\u001b[0;34m\u001b[0m\u001b[0;34m\u001b[0m\u001b[0m\n\u001b[0m",
      "\u001b[0;31mTypeError\u001b[0m: 'MapDataset' object is not subscriptable"
     ]
    }
   ],
   "source": []
  },
  {
   "cell_type": "code",
   "execution_count": 73,
   "metadata": {},
   "outputs": [],
   "source": [
    "ucf101_train.map?"
   ]
  },
  {
   "cell_type": "code",
   "execution_count": 102,
   "metadata": {},
   "outputs": [],
   "source": [
    "tf.keras.layers.Conv3D?"
   ]
  },
  {
   "cell_type": "code",
   "execution_count": 109,
   "metadata": {},
   "outputs": [],
   "source": [
    "tfds.as_numpy?"
   ]
  },
  {
   "cell_type": "code",
   "execution_count": 201,
   "metadata": {},
   "outputs": [
    {
     "name": "stdout",
     "output_type": "stream",
     "text": [
      "tf.Tensor(\n",
      "[[[[0. 0. 0.]\n",
      "   [0. 0. 0.]]\n",
      "\n",
      "  [[0. 0. 0.]\n",
      "   [0. 0. 0.]]]], shape=(1, 2, 2, 3), dtype=float32)\n",
      "tf.Tensor(\n",
      "[[[0. 0. 0.]\n",
      "  [0. 0. 0.]]\n",
      "\n",
      " [[0. 0. 0.]\n",
      "  [0. 0. 0.]]], shape=(2, 2, 3), dtype=float32)\n"
     ]
    }
   ],
   "source": [
    "tx = tf.zeros([1,2, 2, 3])\n",
    "print(tx)\n",
    "txr = tf.reshape(tx, [2, 2, 3])\n",
    "print(txr)"
   ]
  },
  {
   "cell_type": "code",
   "execution_count": null,
   "metadata": {},
   "outputs": [],
   "source": []
  }
 ],
 "metadata": {
  "kernelspec": {
   "display_name": "Python 3",
   "language": "python",
   "name": "python3"
  },
  "language_info": {
   "codemirror_mode": {
    "name": "ipython",
    "version": 3
   },
   "file_extension": ".py",
   "mimetype": "text/x-python",
   "name": "python",
   "nbconvert_exporter": "python",
   "pygments_lexer": "ipython3",
   "version": "3.7.3"
  }
 },
 "nbformat": 4,
 "nbformat_minor": 2
}
